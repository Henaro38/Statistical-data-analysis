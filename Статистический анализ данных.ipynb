{
 "cells": [
  {
   "cell_type": "markdown",
   "id": "cd73c410",
   "metadata": {
    "toc": true
   },
   "source": [
    "<h1>Содержание<span class=\"tocSkip\"></span></h1>\n",
    "<div class=\"toc\"><ul class=\"toc-item\"><li><span><a href=\"#Загрузка-данных\" data-toc-modified-id=\"Загрузка-данных-1\"><span class=\"toc-item-num\">1&nbsp;&nbsp;</span>Загрузка данных</a></span><ul class=\"toc-item\"><li><span><a href=\"#Считываем-CSV-файлы-с-данными\" data-toc-modified-id=\"Считываем-CSV-файлы-с-данными-1.1\"><span class=\"toc-item-num\">1.1&nbsp;&nbsp;</span>Считываем CSV-файлы с данными</a></span></li><li><span><a href=\"#Изучаем-общую-информацию-о-датафрейме\" data-toc-modified-id=\"Изучаем-общую-информацию-о-датафрейме-1.2\"><span class=\"toc-item-num\">1.2&nbsp;&nbsp;</span>Изучаем общую информацию о датафрейме</a></span></li></ul></li><li><span><a href=\"#Предобработка-данных\" data-toc-modified-id=\"Предобработка-данных-2\"><span class=\"toc-item-num\">2&nbsp;&nbsp;</span>Предобработка данных</a></span><ul class=\"toc-item\"><li><span><a href=\"#Приведем-столбец-с-датой-к-типу-данных--pandas\" data-toc-modified-id=\"Приведем-столбец-с-датой-к-типу-данных--pandas-2.1\"><span class=\"toc-item-num\">2.1&nbsp;&nbsp;</span>Приведем столбец с датой к типу данных  pandas</a></span></li><li><span><a href=\"#Создаем-новый-столбец-с-номером-месяца\" data-toc-modified-id=\"Создаем-новый-столбец-с-номером-месяца-2.2\"><span class=\"toc-item-num\">2.2&nbsp;&nbsp;</span>Создаем новый столбец с номером месяца</a></span></li><li><span><a href=\"#Проверяем-пропущенные-значения-и-дубликаты\" data-toc-modified-id=\"Проверяем-пропущенные-значения-и-дубликаты-2.3\"><span class=\"toc-item-num\">2.3&nbsp;&nbsp;</span>Проверяем пропущенные значения и дубликаты</a></span></li></ul></li><li><span><a href=\"#Исследовательский-анализ-данных\" data-toc-modified-id=\"Исследовательский-анализ-данных-3\"><span class=\"toc-item-num\">3&nbsp;&nbsp;</span>Исследовательский анализ данных</a></span><ul class=\"toc-item\"><li><span><a href=\"#Частота-встречаемости-городов\" data-toc-modified-id=\"Частота-встречаемости-городов-3.1\"><span class=\"toc-item-num\">3.1&nbsp;&nbsp;</span>Частота встречаемости городов</a></span></li><li><span><a href=\"#Соотношение-пользователей-с-подпиской-и-без\" data-toc-modified-id=\"Соотношение-пользователей-с-подпиской-и-без-3.2\"><span class=\"toc-item-num\">3.2&nbsp;&nbsp;</span>Соотношение пользователей с подпиской и без</a></span></li><li><span><a href=\"#Расстояние,-которое-пользователь-преодолел-за-одну-поездку\" data-toc-modified-id=\"Расстояние,-которое-пользователь-преодолел-за-одну-поездку-3.3\"><span class=\"toc-item-num\">3.3&nbsp;&nbsp;</span>Расстояние, которое пользователь преодолел за одну поездку</a></span></li><li><span><a href=\"#Продолжительность-поездок\" data-toc-modified-id=\"Продолжительность-поездок-3.4\"><span class=\"toc-item-num\">3.4&nbsp;&nbsp;</span>Продолжительность поездок</a></span></li></ul></li><li><span><a href=\"#Объединение-данных\" data-toc-modified-id=\"Объединение-данных-4\"><span class=\"toc-item-num\">4&nbsp;&nbsp;</span>Объединение данных</a></span><ul class=\"toc-item\"><li><span><a href=\"#Объединим-данные-методом-merge()\" data-toc-modified-id=\"Объединим-данные-методом-merge()-4.1\"><span class=\"toc-item-num\">4.1&nbsp;&nbsp;</span>Объединим данные методом merge()</a></span></li><li><span><a href=\"#Создайте-ещё-два-датафрейма\" data-toc-modified-id=\"Создайте-ещё-два-датафрейма-4.2\"><span class=\"toc-item-num\">4.2&nbsp;&nbsp;</span>Создайте ещё два датафрейма</a></span><ul class=\"toc-item\"><li><span><a href=\"#Данные-о-пользователях-без-подписки\" data-toc-modified-id=\"Данные-о-пользователях-без-подписки-4.2.1\"><span class=\"toc-item-num\">4.2.1&nbsp;&nbsp;</span>Данные о пользователях без подписки</a></span></li><li><span><a href=\"#Данные-о-пользователях-с-подпиской\" data-toc-modified-id=\"Данные-о-пользователях-с-подпиской-4.2.2\"><span class=\"toc-item-num\">4.2.2&nbsp;&nbsp;</span>Данные о пользователях с подпиской</a></span></li></ul></li></ul></li><li><span><a href=\"#Подсчет-выручки\" data-toc-modified-id=\"Подсчет-выручки-5\"><span class=\"toc-item-num\">5&nbsp;&nbsp;</span>Подсчет выручки</a></span><ul class=\"toc-item\"><li><span><a href=\"#Суммарное-расстояние,-количество-поездок-и-суммарное-время-для-каждого-пользователя-за-каждый-месяц\" data-toc-modified-id=\"Суммарное-расстояние,-количество-поездок-и-суммарное-время-для-каждого-пользователя-за-каждый-месяц-5.1\"><span class=\"toc-item-num\">5.1&nbsp;&nbsp;</span>Суммарное расстояние, количество поездок и суммарное время для каждого пользователя за каждый месяц</a></span></li><li><span><a href=\"#Добавляем-столбец-с-помесячной-выручкой,-которую-принёс-каждый-пользователь.\" data-toc-modified-id=\"Добавляем-столбец-с-помесячной-выручкой,-которую-принёс-каждый-пользователь.-5.2\"><span class=\"toc-item-num\">5.2&nbsp;&nbsp;</span>Добавляем столбец с помесячной выручкой, которую принёс каждый пользователь.</a></span></li></ul></li><li><span><a href=\"#Проверка-гипотез\" data-toc-modified-id=\"Проверка-гипотез-6\"><span class=\"toc-item-num\">6&nbsp;&nbsp;</span>Проверка гипотез</a></span><ul class=\"toc-item\"><li><span><a href=\"#Пользователи-с-подпиской-тратят-больше-времени-на-поездки\" data-toc-modified-id=\"Пользователи-с-подпиской-тратят-больше-времени-на-поездки-6.1\"><span class=\"toc-item-num\">6.1&nbsp;&nbsp;</span>Пользователи с подпиской тратят больше времени на поездки</a></span></li><li><span><a href=\"#Среднее-расстояние,-которое-проезжают-пользователи-с-подпиской-за-одну-поездку,-не-превышает-3130-метров\" data-toc-modified-id=\"Среднее-расстояние,-которое-проезжают-пользователи-с-подпиской-за-одну-поездку,-не-превышает-3130-метров-6.2\"><span class=\"toc-item-num\">6.2&nbsp;&nbsp;</span>Среднее расстояние, которое проезжают пользователи с подпиской за одну поездку, не превышает 3130 метров</a></span></li><li><span><a href=\"#Помесячная-выручка-от-пользователей-с-подпиской-по-месяцам-выше,-чем-выручка-от-пользователей-без-подписки.\" data-toc-modified-id=\"Помесячная-выручка-от-пользователей-с-подпиской-по-месяцам-выше,-чем-выручка-от-пользователей-без-подписки.-6.3\"><span class=\"toc-item-num\">6.3&nbsp;&nbsp;</span>Помесячная выручка от пользователей с подпиской по месяцам выше, чем выручка от пользователей без подписки.</a></span></li><li><span><a href=\"#Техническая-команда-сервиса-обновила-сервера,-с-которыми-взаимодействует-мобильное-приложение.-Она-надеется,-что-из-за-этого-количество-обращений-в-техподдержку-значимо-снизилось.-Некоторый-файл-содержит-для-каждого-пользователя-данные-о-количестве-обращений-до-обновления-и-после-него.-Какой-тест-вам-понадобился-бы-для-проверки-этой-гипотезы?\" data-toc-modified-id=\"Техническая-команда-сервиса-обновила-сервера,-с-которыми-взаимодействует-мобильное-приложение.-Она-надеется,-что-из-за-этого-количество-обращений-в-техподдержку-значимо-снизилось.-Некоторый-файл-содержит-для-каждого-пользователя-данные-о-количестве-обращений-до-обновления-и-после-него.-Какой-тест-вам-понадобился-бы-для-проверки-этой-гипотезы?-6.4\"><span class=\"toc-item-num\">6.4&nbsp;&nbsp;</span>Техническая команда сервиса обновила сервера, с которыми взаимодействует мобильное приложение. Она надеется, что из-за этого количество обращений в техподдержку значимо снизилось. Некоторый файл содержит для каждого пользователя данные о количестве обращений до обновления и после него. Какой тест вам понадобился бы для проверки этой гипотезы?</a></span></li></ul></li><li><span><a href=\"#Вывод\" data-toc-modified-id=\"Вывод-7\"><span class=\"toc-item-num\">7&nbsp;&nbsp;</span>Вывод</a></span></li></ul></div>"
   ]
  },
  {
   "cell_type": "markdown",
   "id": "20a83a92",
   "metadata": {},
   "source": [
    "# Статистический анализ данных\n"
   ]
  },
  {
   "cell_type": "markdown",
   "id": "21ff0731",
   "metadata": {},
   "source": [
    "Нам передали данные о некоторых пользователях из нескольких городов, а также об их поездках. Необходимо проанализировать данные и проверить некоторые гипотезы, которые могут помочь бизнесу вырасти.\n",
    "Чтобы совершать поездки по городу, пользователи сервиса GoFast пользуются мобильным приложением. "
   ]
  },
  {
   "cell_type": "markdown",
   "id": "cb18c41a",
   "metadata": {},
   "source": [
    "## Загрузка данных"
   ]
  },
  {
   "cell_type": "markdown",
   "id": "54ef4bf7",
   "metadata": {},
   "source": [
    "### Считываем CSV-файлы с данными"
   ]
  },
  {
   "cell_type": "code",
   "execution_count": 1,
   "id": "277702f8",
   "metadata": {},
   "outputs": [],
   "source": [
    "#импортируем нужные нам библиотеки\n",
    "import pandas as pd\n",
    "import matplotlib.pyplot as plt\n",
    "import numpy as np\n",
    "from scipy import stats as st\n",
    "import seaborn as sns"
   ]
  },
  {
   "cell_type": "code",
   "execution_count": 2,
   "id": "7d8952cc",
   "metadata": {},
   "outputs": [],
   "source": [
    "#Загружаем нужные нам таблицы\n",
    "users_go = pd.read_csv('https://code.s3.yandex.net/datasets/users_go.csv')\n",
    "rides_go = pd.read_csv('https://code.s3.yandex.net/datasets/rides_go.csv', parse_dates=['date'])\n",
    "subscriptions_go = pd.read_csv('https://code.s3.yandex.net/datasets/subscriptions_go.csv')"
   ]
  },
  {
   "cell_type": "markdown",
   "id": "8e6a7a4c",
   "metadata": {},
   "source": [
    "### Изучаем общую информацию о датафрейме"
   ]
  },
  {
   "cell_type": "code",
   "execution_count": 3,
   "id": "ae7c04de",
   "metadata": {},
   "outputs": [
    {
     "data": {
      "text/html": [
       "<div>\n",
       "<style scoped>\n",
       "    .dataframe tbody tr th:only-of-type {\n",
       "        vertical-align: middle;\n",
       "    }\n",
       "\n",
       "    .dataframe tbody tr th {\n",
       "        vertical-align: top;\n",
       "    }\n",
       "\n",
       "    .dataframe thead th {\n",
       "        text-align: right;\n",
       "    }\n",
       "</style>\n",
       "<table border=\"1\" class=\"dataframe\">\n",
       "  <thead>\n",
       "    <tr style=\"text-align: right;\">\n",
       "      <th></th>\n",
       "      <th>user_id</th>\n",
       "      <th>name</th>\n",
       "      <th>age</th>\n",
       "      <th>city</th>\n",
       "      <th>subscription_type</th>\n",
       "    </tr>\n",
       "  </thead>\n",
       "  <tbody>\n",
       "    <tr>\n",
       "      <th>0</th>\n",
       "      <td>1</td>\n",
       "      <td>Кира</td>\n",
       "      <td>22</td>\n",
       "      <td>Тюмень</td>\n",
       "      <td>ultra</td>\n",
       "    </tr>\n",
       "    <tr>\n",
       "      <th>1</th>\n",
       "      <td>2</td>\n",
       "      <td>Станислав</td>\n",
       "      <td>31</td>\n",
       "      <td>Омск</td>\n",
       "      <td>ultra</td>\n",
       "    </tr>\n",
       "    <tr>\n",
       "      <th>2</th>\n",
       "      <td>3</td>\n",
       "      <td>Алексей</td>\n",
       "      <td>20</td>\n",
       "      <td>Москва</td>\n",
       "      <td>ultra</td>\n",
       "    </tr>\n",
       "    <tr>\n",
       "      <th>3</th>\n",
       "      <td>4</td>\n",
       "      <td>Константин</td>\n",
       "      <td>26</td>\n",
       "      <td>Ростов-на-Дону</td>\n",
       "      <td>ultra</td>\n",
       "    </tr>\n",
       "    <tr>\n",
       "      <th>4</th>\n",
       "      <td>5</td>\n",
       "      <td>Адель</td>\n",
       "      <td>28</td>\n",
       "      <td>Омск</td>\n",
       "      <td>ultra</td>\n",
       "    </tr>\n",
       "  </tbody>\n",
       "</table>\n",
       "</div>"
      ],
      "text/plain": [
       "   user_id        name  age            city subscription_type\n",
       "0        1        Кира   22          Тюмень             ultra\n",
       "1        2   Станислав   31            Омск             ultra\n",
       "2        3     Алексей   20          Москва             ultra\n",
       "3        4  Константин   26  Ростов-на-Дону             ultra\n",
       "4        5       Адель   28            Омск             ultra"
      ]
     },
     "metadata": {},
     "output_type": "display_data"
    },
    {
     "name": "stdout",
     "output_type": "stream",
     "text": [
      "<class 'pandas.core.frame.DataFrame'>\n",
      "RangeIndex: 1565 entries, 0 to 1564\n",
      "Data columns (total 5 columns):\n",
      " #   Column             Non-Null Count  Dtype \n",
      "---  ------             --------------  ----- \n",
      " 0   user_id            1565 non-null   int64 \n",
      " 1   name               1565 non-null   object\n",
      " 2   age                1565 non-null   int64 \n",
      " 3   city               1565 non-null   object\n",
      " 4   subscription_type  1565 non-null   object\n",
      "dtypes: int64(2), object(3)\n",
      "memory usage: 61.3+ KB\n",
      "None\n"
     ]
    }
   ],
   "source": [
    "#Смотрим таблицу \"Пользователи\"\n",
    "display(users_go.head())\n",
    "print(users_go.info())"
   ]
  },
  {
   "cell_type": "code",
   "execution_count": 4,
   "id": "a05d0050",
   "metadata": {},
   "outputs": [
    {
     "data": {
      "text/html": [
       "<div>\n",
       "<style scoped>\n",
       "    .dataframe tbody tr th:only-of-type {\n",
       "        vertical-align: middle;\n",
       "    }\n",
       "\n",
       "    .dataframe tbody tr th {\n",
       "        vertical-align: top;\n",
       "    }\n",
       "\n",
       "    .dataframe thead th {\n",
       "        text-align: right;\n",
       "    }\n",
       "</style>\n",
       "<table border=\"1\" class=\"dataframe\">\n",
       "  <thead>\n",
       "    <tr style=\"text-align: right;\">\n",
       "      <th></th>\n",
       "      <th>user_id</th>\n",
       "      <th>distance</th>\n",
       "      <th>duration</th>\n",
       "      <th>date</th>\n",
       "    </tr>\n",
       "  </thead>\n",
       "  <tbody>\n",
       "    <tr>\n",
       "      <th>0</th>\n",
       "      <td>1</td>\n",
       "      <td>4409.919140</td>\n",
       "      <td>25.599769</td>\n",
       "      <td>2021-01-01</td>\n",
       "    </tr>\n",
       "    <tr>\n",
       "      <th>1</th>\n",
       "      <td>1</td>\n",
       "      <td>2617.592153</td>\n",
       "      <td>15.816871</td>\n",
       "      <td>2021-01-18</td>\n",
       "    </tr>\n",
       "    <tr>\n",
       "      <th>2</th>\n",
       "      <td>1</td>\n",
       "      <td>754.159807</td>\n",
       "      <td>6.232113</td>\n",
       "      <td>2021-04-20</td>\n",
       "    </tr>\n",
       "    <tr>\n",
       "      <th>3</th>\n",
       "      <td>1</td>\n",
       "      <td>2694.783254</td>\n",
       "      <td>18.511000</td>\n",
       "      <td>2021-08-11</td>\n",
       "    </tr>\n",
       "    <tr>\n",
       "      <th>4</th>\n",
       "      <td>1</td>\n",
       "      <td>4028.687306</td>\n",
       "      <td>26.265803</td>\n",
       "      <td>2021-08-28</td>\n",
       "    </tr>\n",
       "  </tbody>\n",
       "</table>\n",
       "</div>"
      ],
      "text/plain": [
       "   user_id     distance   duration       date\n",
       "0        1  4409.919140  25.599769 2021-01-01\n",
       "1        1  2617.592153  15.816871 2021-01-18\n",
       "2        1   754.159807   6.232113 2021-04-20\n",
       "3        1  2694.783254  18.511000 2021-08-11\n",
       "4        1  4028.687306  26.265803 2021-08-28"
      ]
     },
     "metadata": {},
     "output_type": "display_data"
    },
    {
     "name": "stdout",
     "output_type": "stream",
     "text": [
      "<class 'pandas.core.frame.DataFrame'>\n",
      "RangeIndex: 18068 entries, 0 to 18067\n",
      "Data columns (total 4 columns):\n",
      " #   Column    Non-Null Count  Dtype         \n",
      "---  ------    --------------  -----         \n",
      " 0   user_id   18068 non-null  int64         \n",
      " 1   distance  18068 non-null  float64       \n",
      " 2   duration  18068 non-null  float64       \n",
      " 3   date      18068 non-null  datetime64[ns]\n",
      "dtypes: datetime64[ns](1), float64(2), int64(1)\n",
      "memory usage: 564.8 KB\n",
      "None\n"
     ]
    }
   ],
   "source": [
    "#Смотрим таблицу \"Поездки\"\n",
    "display(rides_go.head())\n",
    "print(rides_go.info())"
   ]
  },
  {
   "cell_type": "code",
   "execution_count": 5,
   "id": "b11593c8",
   "metadata": {},
   "outputs": [
    {
     "data": {
      "text/html": [
       "<div>\n",
       "<style scoped>\n",
       "    .dataframe tbody tr th:only-of-type {\n",
       "        vertical-align: middle;\n",
       "    }\n",
       "\n",
       "    .dataframe tbody tr th {\n",
       "        vertical-align: top;\n",
       "    }\n",
       "\n",
       "    .dataframe thead th {\n",
       "        text-align: right;\n",
       "    }\n",
       "</style>\n",
       "<table border=\"1\" class=\"dataframe\">\n",
       "  <thead>\n",
       "    <tr style=\"text-align: right;\">\n",
       "      <th></th>\n",
       "      <th>subscription_type</th>\n",
       "      <th>minute_price</th>\n",
       "      <th>start_ride_price</th>\n",
       "      <th>subscription_fee</th>\n",
       "    </tr>\n",
       "  </thead>\n",
       "  <tbody>\n",
       "    <tr>\n",
       "      <th>0</th>\n",
       "      <td>free</td>\n",
       "      <td>8</td>\n",
       "      <td>50</td>\n",
       "      <td>0</td>\n",
       "    </tr>\n",
       "    <tr>\n",
       "      <th>1</th>\n",
       "      <td>ultra</td>\n",
       "      <td>6</td>\n",
       "      <td>0</td>\n",
       "      <td>199</td>\n",
       "    </tr>\n",
       "  </tbody>\n",
       "</table>\n",
       "</div>"
      ],
      "text/plain": [
       "  subscription_type  minute_price  start_ride_price  subscription_fee\n",
       "0              free             8                50                 0\n",
       "1             ultra             6                 0               199"
      ]
     },
     "metadata": {},
     "output_type": "display_data"
    },
    {
     "name": "stdout",
     "output_type": "stream",
     "text": [
      "<class 'pandas.core.frame.DataFrame'>\n",
      "RangeIndex: 2 entries, 0 to 1\n",
      "Data columns (total 4 columns):\n",
      " #   Column             Non-Null Count  Dtype \n",
      "---  ------             --------------  ----- \n",
      " 0   subscription_type  2 non-null      object\n",
      " 1   minute_price       2 non-null      int64 \n",
      " 2   start_ride_price   2 non-null      int64 \n",
      " 3   subscription_fee   2 non-null      int64 \n",
      "dtypes: int64(3), object(1)\n",
      "memory usage: 192.0+ bytes\n",
      "None\n",
      "       minute_price  start_ride_price  subscription_fee\n",
      "count      2.000000          2.000000          2.000000\n",
      "mean       7.000000         25.000000         99.500000\n",
      "std        1.414214         35.355339        140.714249\n",
      "min        6.000000          0.000000          0.000000\n",
      "25%        6.500000         12.500000         49.750000\n",
      "50%        7.000000         25.000000         99.500000\n",
      "75%        7.500000         37.500000        149.250000\n",
      "max        8.000000         50.000000        199.000000\n"
     ]
    }
   ],
   "source": [
    "#Смотрим таблицу \"Подписки\"\n",
    "display(subscriptions_go.head())\n",
    "print(subscriptions_go.info())\n",
    "print(subscriptions_go.describe())"
   ]
  },
  {
   "cell_type": "code",
   "execution_count": 6,
   "id": "8b0a0270",
   "metadata": {},
   "outputs": [
    {
     "data": {
      "image/png": "[encoded data removed]",
      "text/plain": [
       "<Figure size 432x288 with 4 Axes>"
      ]
     },
     "metadata": {
      "needs_background": "light"
     },
     "output_type": "display_data"
    },
    {
     "data": {
      "image/png": "[encoded data removed]",
      "text/plain": [
       "<Figure size 432x288 with 4 Axes>"
      ]
     },
     "metadata": {
      "needs_background": "light"
     },
     "output_type": "display_data"
    },
    {
     "data": {
      "image/png": "[encoded data removed]",
      "text/plain": [
       "<Figure size 432x288 with 2 Axes>"
      ]
     },
     "metadata": {
      "needs_background": "light"
     },
     "output_type": "display_data"
    }
   ],
   "source": [
    "subscriptions_go.hist()\n",
    "rides_go.hist()\n",
    "users_go.hist()\n",
    "plt.show()"
   ]
  },
  {
   "cell_type": "markdown",
   "id": "1228573e",
   "metadata": {},
   "source": [
    "1. В таблице users_go всего 1565 строк  \n",
    "2. В таблице rides_go всего 18068 строк  \n",
    "3. В таблице subscriptions_go 2 строки  \n",
    "\n",
    "Пропуски отсутствуют, явных дубликатов нет. Названия столбцов в норме. Для целого ряда столбцов некорректный тип данных. Данные признаны полными и достаточными для исследования."
   ]
  },
  {
   "cell_type": "markdown",
   "id": "f195f8cc",
   "metadata": {},
   "source": [
    "## Предобработка данных"
   ]
  },
  {
   "cell_type": "markdown",
   "id": "6fe816c8",
   "metadata": {},
   "source": [
    "### Приведем столбец с датой к типу данных  pandas"
   ]
  },
  {
   "cell_type": "markdown",
   "id": "f2a2db06",
   "metadata": {},
   "source": [
    "### Создаем новый столбец с номером месяца"
   ]
  },
  {
   "cell_type": "code",
   "execution_count": 7,
   "id": "f9ccb285",
   "metadata": {},
   "outputs": [
    {
     "data": {
      "text/html": [
       "<div>\n",
       "<style scoped>\n",
       "    .dataframe tbody tr th:only-of-type {\n",
       "        vertical-align: middle;\n",
       "    }\n",
       "\n",
       "    .dataframe tbody tr th {\n",
       "        vertical-align: top;\n",
       "    }\n",
       "\n",
       "    .dataframe thead th {\n",
       "        text-align: right;\n",
       "    }\n",
       "</style>\n",
       "<table border=\"1\" class=\"dataframe\">\n",
       "  <thead>\n",
       "    <tr style=\"text-align: right;\">\n",
       "      <th></th>\n",
       "      <th>user_id</th>\n",
       "      <th>distance</th>\n",
       "      <th>duration</th>\n",
       "      <th>date</th>\n",
       "      <th>month</th>\n",
       "    </tr>\n",
       "  </thead>\n",
       "  <tbody>\n",
       "    <tr>\n",
       "      <th>0</th>\n",
       "      <td>1</td>\n",
       "      <td>4409.919140</td>\n",
       "      <td>25.599769</td>\n",
       "      <td>2021-01-01</td>\n",
       "      <td>1</td>\n",
       "    </tr>\n",
       "    <tr>\n",
       "      <th>1</th>\n",
       "      <td>1</td>\n",
       "      <td>2617.592153</td>\n",
       "      <td>15.816871</td>\n",
       "      <td>2021-01-18</td>\n",
       "      <td>1</td>\n",
       "    </tr>\n",
       "    <tr>\n",
       "      <th>2</th>\n",
       "      <td>1</td>\n",
       "      <td>754.159807</td>\n",
       "      <td>6.232113</td>\n",
       "      <td>2021-04-20</td>\n",
       "      <td>4</td>\n",
       "    </tr>\n",
       "    <tr>\n",
       "      <th>3</th>\n",
       "      <td>1</td>\n",
       "      <td>2694.783254</td>\n",
       "      <td>18.511000</td>\n",
       "      <td>2021-08-11</td>\n",
       "      <td>8</td>\n",
       "    </tr>\n",
       "    <tr>\n",
       "      <th>4</th>\n",
       "      <td>1</td>\n",
       "      <td>4028.687306</td>\n",
       "      <td>26.265803</td>\n",
       "      <td>2021-08-28</td>\n",
       "      <td>8</td>\n",
       "    </tr>\n",
       "    <tr>\n",
       "      <th>...</th>\n",
       "      <td>...</td>\n",
       "      <td>...</td>\n",
       "      <td>...</td>\n",
       "      <td>...</td>\n",
       "      <td>...</td>\n",
       "    </tr>\n",
       "    <tr>\n",
       "      <th>18063</th>\n",
       "      <td>1534</td>\n",
       "      <td>3781.098080</td>\n",
       "      <td>19.822962</td>\n",
       "      <td>2021-11-04</td>\n",
       "      <td>11</td>\n",
       "    </tr>\n",
       "    <tr>\n",
       "      <th>18064</th>\n",
       "      <td>1534</td>\n",
       "      <td>2840.423057</td>\n",
       "      <td>21.409799</td>\n",
       "      <td>2021-11-16</td>\n",
       "      <td>11</td>\n",
       "    </tr>\n",
       "    <tr>\n",
       "      <th>18065</th>\n",
       "      <td>1534</td>\n",
       "      <td>3826.185507</td>\n",
       "      <td>18.435051</td>\n",
       "      <td>2021-11-18</td>\n",
       "      <td>11</td>\n",
       "    </tr>\n",
       "    <tr>\n",
       "      <th>18066</th>\n",
       "      <td>1534</td>\n",
       "      <td>2902.308661</td>\n",
       "      <td>16.674362</td>\n",
       "      <td>2021-11-27</td>\n",
       "      <td>11</td>\n",
       "    </tr>\n",
       "    <tr>\n",
       "      <th>18067</th>\n",
       "      <td>1534</td>\n",
       "      <td>2371.711192</td>\n",
       "      <td>15.893917</td>\n",
       "      <td>2021-12-29</td>\n",
       "      <td>12</td>\n",
       "    </tr>\n",
       "  </tbody>\n",
       "</table>\n",
       "<p>18068 rows × 5 columns</p>\n",
       "</div>"
      ],
      "text/plain": [
       "       user_id     distance   duration       date  month\n",
       "0            1  4409.919140  25.599769 2021-01-01      1\n",
       "1            1  2617.592153  15.816871 2021-01-18      1\n",
       "2            1   754.159807   6.232113 2021-04-20      4\n",
       "3            1  2694.783254  18.511000 2021-08-11      8\n",
       "4            1  4028.687306  26.265803 2021-08-28      8\n",
       "...        ...          ...        ...        ...    ...\n",
       "18063     1534  3781.098080  19.822962 2021-11-04     11\n",
       "18064     1534  2840.423057  21.409799 2021-11-16     11\n",
       "18065     1534  3826.185507  18.435051 2021-11-18     11\n",
       "18066     1534  2902.308661  16.674362 2021-11-27     11\n",
       "18067     1534  2371.711192  15.893917 2021-12-29     12\n",
       "\n",
       "[18068 rows x 5 columns]"
      ]
     },
     "execution_count": 7,
     "metadata": {},
     "output_type": "execute_result"
    }
   ],
   "source": [
    "rides_go['month'] = rides_go['date'].dt.month\n",
    "rides_go"
   ]
  },
  {
   "cell_type": "markdown",
   "id": "40f1d14b",
   "metadata": {},
   "source": [
    "### Проверяем пропущенные значения и дубликаты"
   ]
  },
  {
   "cell_type": "code",
   "execution_count": 8,
   "id": "78504d38",
   "metadata": {},
   "outputs": [
    {
     "name": "stdout",
     "output_type": "stream",
     "text": [
      "0\n",
      "0\n",
      "31\n"
     ]
    }
   ],
   "source": [
    "#Смотрим явные дубликаты\n",
    "print(rides_go.duplicated().sum())\n",
    "print(subscriptions_go.duplicated().sum())\n",
    "print(users_go.duplicated().sum())\n",
    "#удаляем дубликаты \n",
    "users_go.drop_duplicates(inplace=True)"
   ]
  },
  {
   "cell_type": "markdown",
   "id": "410d0141",
   "metadata": {},
   "source": [
    "Дубликаты только в таблице пользователей, их мало, поэтому удаляем"
   ]
  },
  {
   "cell_type": "code",
   "execution_count": 9,
   "id": "bc7ac6d4",
   "metadata": {},
   "outputs": [
    {
     "name": "stdout",
     "output_type": "stream",
     "text": [
      "user_id     0\n",
      "distance    0\n",
      "duration    0\n",
      "date        0\n",
      "month       0\n",
      "dtype: int64\n",
      "\n",
      " subscription_type    0\n",
      "minute_price         0\n",
      "start_ride_price     0\n",
      "subscription_fee     0\n",
      "dtype: int64\n",
      "\n",
      " user_id              0\n",
      "name                 0\n",
      "age                  0\n",
      "city                 0\n",
      "subscription_type    0\n",
      "dtype: int64\n"
     ]
    }
   ],
   "source": [
    "#Смотрим пропуски\n",
    "print(rides_go.isna().sum())\n",
    "print('\\n', subscriptions_go.isna().sum())\n",
    "print('\\n',users_go.isna().sum())"
   ]
  },
  {
   "cell_type": "markdown",
   "id": "01c54f45",
   "metadata": {},
   "source": [
    "Пропусков нет"
   ]
  },
  {
   "cell_type": "code",
   "execution_count": 10,
   "id": "f1d44f5b",
   "metadata": {},
   "outputs": [
    {
     "data": {
      "text/plain": [
       "count    18068.000000\n",
       "mean        17.805011\n",
       "std          6.091051\n",
       "min          0.500000\n",
       "25%         13.597563\n",
       "50%         17.678395\n",
       "75%         21.724800\n",
       "max         40.823963\n",
       "Name: duration, dtype: float64"
      ]
     },
     "execution_count": 10,
     "metadata": {},
     "output_type": "execute_result"
    }
   ],
   "source": [
    "#округляем расстояние до 2 знаков после запятой\n",
    "rides_go['distance'] = rides_go['distance'].round(2)\n",
    "rides_go['duration'].describe()"
   ]
  },
  {
   "cell_type": "markdown",
   "id": "4d6c26b2",
   "metadata": {},
   "source": [
    "В этом разделе мы :\n",
    "1. Проверили дубликаты, удалили там где обнаружили;\n",
    "2. Добавили новый столбец с номером месяца\n",
    "3. Проверили пропуски"
   ]
  },
  {
   "cell_type": "markdown",
   "id": "ab605476",
   "metadata": {},
   "source": [
    "##  Исследовательский анализ данных"
   ]
  },
  {
   "cell_type": "markdown",
   "id": "ee59a032",
   "metadata": {},
   "source": [
    "### Частота встречаемости городов"
   ]
  },
  {
   "cell_type": "code",
   "execution_count": 11,
   "id": "94e36f32",
   "metadata": {},
   "outputs": [
    {
     "data": {
      "image/png": "[encoded data removed]",
      "text/plain": [
       "<Figure size 432x216 with 1 Axes>"
      ]
     },
     "metadata": {
      "needs_background": "light"
     },
     "output_type": "display_data"
    },
    {
     "data": {
      "text/html": [
       "<div>\n",
       "<style scoped>\n",
       "    .dataframe tbody tr th:only-of-type {\n",
       "        vertical-align: middle;\n",
       "    }\n",
       "\n",
       "    .dataframe tbody tr th {\n",
       "        vertical-align: top;\n",
       "    }\n",
       "\n",
       "    .dataframe thead th {\n",
       "        text-align: right;\n",
       "    }\n",
       "</style>\n",
       "<table border=\"1\" class=\"dataframe\">\n",
       "  <thead>\n",
       "    <tr style=\"text-align: right;\">\n",
       "      <th></th>\n",
       "      <th>user_id</th>\n",
       "    </tr>\n",
       "    <tr>\n",
       "      <th>city</th>\n",
       "      <th></th>\n",
       "    </tr>\n",
       "  </thead>\n",
       "  <tbody>\n",
       "    <tr>\n",
       "      <th>Пятигорск</th>\n",
       "      <td>219</td>\n",
       "    </tr>\n",
       "    <tr>\n",
       "      <th>Екатеринбург</th>\n",
       "      <td>204</td>\n",
       "    </tr>\n",
       "    <tr>\n",
       "      <th>Ростов-на-Дону</th>\n",
       "      <td>198</td>\n",
       "    </tr>\n",
       "    <tr>\n",
       "      <th>Краснодар</th>\n",
       "      <td>193</td>\n",
       "    </tr>\n",
       "    <tr>\n",
       "      <th>Сочи</th>\n",
       "      <td>189</td>\n",
       "    </tr>\n",
       "    <tr>\n",
       "      <th>Омск</th>\n",
       "      <td>183</td>\n",
       "    </tr>\n",
       "    <tr>\n",
       "      <th>Тюмень</th>\n",
       "      <td>180</td>\n",
       "    </tr>\n",
       "    <tr>\n",
       "      <th>Москва</th>\n",
       "      <td>168</td>\n",
       "    </tr>\n",
       "  </tbody>\n",
       "</table>\n",
       "</div>"
      ],
      "text/plain": [
       "                user_id\n",
       "city                   \n",
       "Пятигорск           219\n",
       "Екатеринбург        204\n",
       "Ростов-на-Дону      198\n",
       "Краснодар           193\n",
       "Сочи                189\n",
       "Омск                183\n",
       "Тюмень              180\n",
       "Москва              168"
      ]
     },
     "metadata": {},
     "output_type": "display_data"
    }
   ],
   "source": [
    "city_users = users_go.pivot_table(index='city', values='user_id', aggfunc='count').sort_values('user_id', ascending=False)\n",
    "city_users.plot(kind='barh', color='green', figsize=(6,3))\n",
    "\n",
    "plt.title('Количество пользователей по городам')\n",
    "plt.xlabel('Количество пользователей')\n",
    "plt.ylabel('Город')\n",
    "plt.show()\n",
    "display(city_users)"
   ]
  },
  {
   "cell_type": "markdown",
   "id": "3c56d00d",
   "metadata": {},
   "source": [
    "Получается что больше всего пользователей в Пятигорске, а меньше всего в Москве"
   ]
  },
  {
   "cell_type": "markdown",
   "id": "d5dbf207",
   "metadata": {},
   "source": [
    "### Соотношение пользователей с подпиской и без"
   ]
  },
  {
   "cell_type": "code",
   "execution_count": 12,
   "id": "6cd6d209",
   "metadata": {},
   "outputs": [
    {
     "data": {
      "text/html": [
       "<div>\n",
       "<style scoped>\n",
       "    .dataframe tbody tr th:only-of-type {\n",
       "        vertical-align: middle;\n",
       "    }\n",
       "\n",
       "    .dataframe tbody tr th {\n",
       "        vertical-align: top;\n",
       "    }\n",
       "\n",
       "    .dataframe thead th {\n",
       "        text-align: right;\n",
       "    }\n",
       "</style>\n",
       "<table border=\"1\" class=\"dataframe\">\n",
       "  <thead>\n",
       "    <tr style=\"text-align: right;\">\n",
       "      <th></th>\n",
       "      <th>user_id</th>\n",
       "      <th>name</th>\n",
       "      <th>age</th>\n",
       "      <th>city</th>\n",
       "      <th>subscription_type</th>\n",
       "    </tr>\n",
       "  </thead>\n",
       "  <tbody>\n",
       "    <tr>\n",
       "      <th>0</th>\n",
       "      <td>1</td>\n",
       "      <td>Кира</td>\n",
       "      <td>22</td>\n",
       "      <td>Тюмень</td>\n",
       "      <td>ultra</td>\n",
       "    </tr>\n",
       "    <tr>\n",
       "      <th>1</th>\n",
       "      <td>2</td>\n",
       "      <td>Станислав</td>\n",
       "      <td>31</td>\n",
       "      <td>Омск</td>\n",
       "      <td>ultra</td>\n",
       "    </tr>\n",
       "    <tr>\n",
       "      <th>2</th>\n",
       "      <td>3</td>\n",
       "      <td>Алексей</td>\n",
       "      <td>20</td>\n",
       "      <td>Москва</td>\n",
       "      <td>ultra</td>\n",
       "    </tr>\n",
       "    <tr>\n",
       "      <th>3</th>\n",
       "      <td>4</td>\n",
       "      <td>Константин</td>\n",
       "      <td>26</td>\n",
       "      <td>Ростов-на-Дону</td>\n",
       "      <td>ultra</td>\n",
       "    </tr>\n",
       "    <tr>\n",
       "      <th>4</th>\n",
       "      <td>5</td>\n",
       "      <td>Адель</td>\n",
       "      <td>28</td>\n",
       "      <td>Омск</td>\n",
       "      <td>ultra</td>\n",
       "    </tr>\n",
       "  </tbody>\n",
       "</table>\n",
       "</div>"
      ],
      "text/plain": [
       "   user_id        name  age            city subscription_type\n",
       "0        1        Кира   22          Тюмень             ultra\n",
       "1        2   Станислав   31            Омск             ultra\n",
       "2        3     Алексей   20          Москва             ultra\n",
       "3        4  Константин   26  Ростов-на-Дону             ultra\n",
       "4        5       Адель   28            Омск             ultra"
      ]
     },
     "execution_count": 12,
     "metadata": {},
     "output_type": "execute_result"
    }
   ],
   "source": [
    "users_go.head()"
   ]
  },
  {
   "cell_type": "code",
   "execution_count": 13,
   "id": "a0a621f3",
   "metadata": {},
   "outputs": [
    {
     "data": {
      "image/png": "[encoded data removed]",
      "text/plain": [
       "<Figure size 432x288 with 1 Axes>"
      ]
     },
     "metadata": {},
     "output_type": "display_data"
    }
   ],
   "source": [
    "(\n",
    "    users_go.pivot_table(index='subscription_type', values='user_id', aggfunc='count')\n",
    "    .plot.pie(y='user_id',autopct='%1.1f%%')\n",
    ")\n",
    "plt.title('Соотношение пользователей с подпиской и без')\n",
    "plt.ylabel(' ')\n",
    "plt.show()"
   ]
  },
  {
   "cell_type": "markdown",
   "id": "85b1db76",
   "metadata": {},
   "source": [
    " Пользователей без подписки - 54,4%  \n",
    " Пользователей с подпиской - 45,6%"
   ]
  },
  {
   "cell_type": "code",
   "execution_count": 14,
   "id": "cc1502eb",
   "metadata": {},
   "outputs": [
    {
     "data": {
      "image/png": "[encoded data removed]",
      "text/plain": [
       "<Figure size 720x432 with 1 Axes>"
      ]
     },
     "metadata": {
      "needs_background": "light"
     },
     "output_type": "display_data"
    }
   ],
   "source": [
    "(\n",
    "    users_go\n",
    "    .pivot_table(index='age', values='user_id', aggfunc='count').sort_values('age')\n",
    "    .plot(kind='bar', color='green', figsize=(10,6))\n",
    ")\n",
    "plt.title('Количество пользователей в зависимости от возраста')\n",
    "plt.xlabel('Количество пользователей')\n",
    "plt.ylabel('Возраст')\n",
    "plt.show()"
   ]
  },
  {
   "cell_type": "markdown",
   "id": "b032bace",
   "metadata": {},
   "source": [
    "Общий диапозон пользователей от 12 до 43 лет. Больше всего пользователей от 20 до 31 года"
   ]
  },
  {
   "cell_type": "markdown",
   "id": "069452da",
   "metadata": {},
   "source": [
    "### Расстояние, которое пользователь преодолел за одну поездку"
   ]
  },
  {
   "cell_type": "code",
   "execution_count": 15,
   "id": "9055405c",
   "metadata": {},
   "outputs": [
    {
     "data": {
      "text/plain": [
       "count    18068.000000\n",
       "mean      3070.659992\n",
       "std       1116.831222\n",
       "min          0.860000\n",
       "25%       2543.227500\n",
       "50%       3133.610000\n",
       "75%       3776.220000\n",
       "max       7211.010000\n",
       "Name: distance, dtype: float64"
      ]
     },
     "execution_count": 15,
     "metadata": {},
     "output_type": "execute_result"
    }
   ],
   "source": [
    "rides_go.distance.describe()"
   ]
  },
  {
   "cell_type": "code",
   "execution_count": 16,
   "id": "be916275",
   "metadata": {},
   "outputs": [
    {
     "data": {
      "image/png": "[encoded data removed]",
      "text/plain": [
       "<Figure size 432x288 with 1 Axes>"
      ]
     },
     "metadata": {
      "needs_background": "light"
     },
     "output_type": "display_data"
    }
   ],
   "source": [
    "plt.hist(x=rides_go['distance'], bins=300)\n",
    "plt.title('Количество пользователей преодолевших определенное расстояние')\n",
    "plt.xlabel('Расстояние(М)')\n",
    "plt.ylabel('Количество пользователей')\n",
    "plt.show()"
   ]
  },
  {
   "cell_type": "markdown",
   "id": "b506e846",
   "metadata": {},
   "source": [
    "Больше всего пользователей ездят от 2000 до 5000 метров"
   ]
  },
  {
   "cell_type": "markdown",
   "id": "5d837d39",
   "metadata": {},
   "source": [
    "### Продолжительность поездок"
   ]
  },
  {
   "cell_type": "code",
   "execution_count": 17,
   "id": "eb31e3f1",
   "metadata": {},
   "outputs": [
    {
     "data": {
      "text/plain": [
       "count    18068.000000\n",
       "mean        17.805017\n",
       "std          6.091071\n",
       "min          0.500000\n",
       "25%         13.600000\n",
       "50%         17.680000\n",
       "75%         21.722500\n",
       "max         40.820000\n",
       "Name: duration, dtype: float64"
      ]
     },
     "metadata": {},
     "output_type": "display_data"
    }
   ],
   "source": [
    "rides_go['duration'] = rides_go['duration'].round(2)\n",
    "display(rides_go.duration.describe())"
   ]
  },
  {
   "cell_type": "code",
   "execution_count": 18,
   "id": "14eafb6d",
   "metadata": {},
   "outputs": [
    {
     "data": {
      "image/png": "[encoded data removed]",
      "text/plain": [
       "<Figure size 432x288 with 1 Axes>"
      ]
     },
     "metadata": {
      "needs_background": "light"
     },
     "output_type": "display_data"
    }
   ],
   "source": [
    "plt.hist(x=rides_go['duration'], bins=300)\n",
    "plt.title('Количество поездок в зависимости от продолжительности')\n",
    "plt.xlabel('Продолжительность поездки(мин)')\n",
    "plt.ylabel('Количество пользователей')\n",
    "plt.show()"
   ]
  },
  {
   "cell_type": "markdown",
   "id": "cd808f1e",
   "metadata": {},
   "source": [
    "В основном продолжительность поездки от 10 до 30 минут, так же видим большой всплеск около 0, возможно некоторые люди берут и сразу сдают или глюк какой в приложении например"
   ]
  },
  {
   "cell_type": "markdown",
   "id": "3f08bcb2",
   "metadata": {},
   "source": [
    "1.Получается что больше всего пользователей в Пятигорске, а меньше всего в Москве  \n",
    "2.Пользователей без подписки - 54,4%  \n",
    "Пользователей с подпиской - 45,6%  \n",
    "3.Общий диапозон пользователей от 12 до 43 лет. Больше всего пользователей от 20 до 31 года  \n",
    "4.Больше всего пользователей ездят от 2000 до 5000 метров  \n",
    "5.В основном продолжительность поездки от 10 до 30 минут, так же видим большой всплеск около 0, возможно некоторые люди берут и сразу сдают или глюк какой в приложении например"
   ]
  },
  {
   "cell_type": "markdown",
   "id": "0c505bbc",
   "metadata": {},
   "source": [
    "## Объединение данных"
   ]
  },
  {
   "cell_type": "markdown",
   "id": "df309033",
   "metadata": {},
   "source": [
    "### Объединим данные методом merge()"
   ]
  },
  {
   "cell_type": "code",
   "execution_count": 19,
   "id": "0a74c179",
   "metadata": {},
   "outputs": [
    {
     "data": {
      "text/html": [
       "<div>\n",
       "<style scoped>\n",
       "    .dataframe tbody tr th:only-of-type {\n",
       "        vertical-align: middle;\n",
       "    }\n",
       "\n",
       "    .dataframe tbody tr th {\n",
       "        vertical-align: top;\n",
       "    }\n",
       "\n",
       "    .dataframe thead th {\n",
       "        text-align: right;\n",
       "    }\n",
       "</style>\n",
       "<table border=\"1\" class=\"dataframe\">\n",
       "  <thead>\n",
       "    <tr style=\"text-align: right;\">\n",
       "      <th></th>\n",
       "      <th>user_id</th>\n",
       "      <th>name</th>\n",
       "      <th>age</th>\n",
       "      <th>city</th>\n",
       "      <th>subscription_type</th>\n",
       "      <th>distance</th>\n",
       "      <th>duration</th>\n",
       "      <th>date</th>\n",
       "      <th>month</th>\n",
       "      <th>minute_price</th>\n",
       "      <th>start_ride_price</th>\n",
       "      <th>subscription_fee</th>\n",
       "    </tr>\n",
       "  </thead>\n",
       "  <tbody>\n",
       "    <tr>\n",
       "      <th>0</th>\n",
       "      <td>1</td>\n",
       "      <td>Кира</td>\n",
       "      <td>22</td>\n",
       "      <td>Тюмень</td>\n",
       "      <td>ultra</td>\n",
       "      <td>4409.92</td>\n",
       "      <td>25.60</td>\n",
       "      <td>2021-01-01</td>\n",
       "      <td>1</td>\n",
       "      <td>6</td>\n",
       "      <td>0</td>\n",
       "      <td>199</td>\n",
       "    </tr>\n",
       "    <tr>\n",
       "      <th>1</th>\n",
       "      <td>1</td>\n",
       "      <td>Кира</td>\n",
       "      <td>22</td>\n",
       "      <td>Тюмень</td>\n",
       "      <td>ultra</td>\n",
       "      <td>2617.59</td>\n",
       "      <td>15.82</td>\n",
       "      <td>2021-01-18</td>\n",
       "      <td>1</td>\n",
       "      <td>6</td>\n",
       "      <td>0</td>\n",
       "      <td>199</td>\n",
       "    </tr>\n",
       "    <tr>\n",
       "      <th>2</th>\n",
       "      <td>1</td>\n",
       "      <td>Кира</td>\n",
       "      <td>22</td>\n",
       "      <td>Тюмень</td>\n",
       "      <td>ultra</td>\n",
       "      <td>754.16</td>\n",
       "      <td>6.23</td>\n",
       "      <td>2021-04-20</td>\n",
       "      <td>4</td>\n",
       "      <td>6</td>\n",
       "      <td>0</td>\n",
       "      <td>199</td>\n",
       "    </tr>\n",
       "    <tr>\n",
       "      <th>3</th>\n",
       "      <td>1</td>\n",
       "      <td>Кира</td>\n",
       "      <td>22</td>\n",
       "      <td>Тюмень</td>\n",
       "      <td>ultra</td>\n",
       "      <td>2694.78</td>\n",
       "      <td>18.51</td>\n",
       "      <td>2021-08-11</td>\n",
       "      <td>8</td>\n",
       "      <td>6</td>\n",
       "      <td>0</td>\n",
       "      <td>199</td>\n",
       "    </tr>\n",
       "    <tr>\n",
       "      <th>4</th>\n",
       "      <td>1</td>\n",
       "      <td>Кира</td>\n",
       "      <td>22</td>\n",
       "      <td>Тюмень</td>\n",
       "      <td>ultra</td>\n",
       "      <td>4028.69</td>\n",
       "      <td>26.27</td>\n",
       "      <td>2021-08-28</td>\n",
       "      <td>8</td>\n",
       "      <td>6</td>\n",
       "      <td>0</td>\n",
       "      <td>199</td>\n",
       "    </tr>\n",
       "    <tr>\n",
       "      <th>...</th>\n",
       "      <td>...</td>\n",
       "      <td>...</td>\n",
       "      <td>...</td>\n",
       "      <td>...</td>\n",
       "      <td>...</td>\n",
       "      <td>...</td>\n",
       "      <td>...</td>\n",
       "      <td>...</td>\n",
       "      <td>...</td>\n",
       "      <td>...</td>\n",
       "      <td>...</td>\n",
       "      <td>...</td>\n",
       "    </tr>\n",
       "    <tr>\n",
       "      <th>18063</th>\n",
       "      <td>1534</td>\n",
       "      <td>Альберт</td>\n",
       "      <td>25</td>\n",
       "      <td>Краснодар</td>\n",
       "      <td>free</td>\n",
       "      <td>3781.10</td>\n",
       "      <td>19.82</td>\n",
       "      <td>2021-11-04</td>\n",
       "      <td>11</td>\n",
       "      <td>8</td>\n",
       "      <td>50</td>\n",
       "      <td>0</td>\n",
       "    </tr>\n",
       "    <tr>\n",
       "      <th>18064</th>\n",
       "      <td>1534</td>\n",
       "      <td>Альберт</td>\n",
       "      <td>25</td>\n",
       "      <td>Краснодар</td>\n",
       "      <td>free</td>\n",
       "      <td>2840.42</td>\n",
       "      <td>21.41</td>\n",
       "      <td>2021-11-16</td>\n",
       "      <td>11</td>\n",
       "      <td>8</td>\n",
       "      <td>50</td>\n",
       "      <td>0</td>\n",
       "    </tr>\n",
       "    <tr>\n",
       "      <th>18065</th>\n",
       "      <td>1534</td>\n",
       "      <td>Альберт</td>\n",
       "      <td>25</td>\n",
       "      <td>Краснодар</td>\n",
       "      <td>free</td>\n",
       "      <td>3826.19</td>\n",
       "      <td>18.44</td>\n",
       "      <td>2021-11-18</td>\n",
       "      <td>11</td>\n",
       "      <td>8</td>\n",
       "      <td>50</td>\n",
       "      <td>0</td>\n",
       "    </tr>\n",
       "    <tr>\n",
       "      <th>18066</th>\n",
       "      <td>1534</td>\n",
       "      <td>Альберт</td>\n",
       "      <td>25</td>\n",
       "      <td>Краснодар</td>\n",
       "      <td>free</td>\n",
       "      <td>2902.31</td>\n",
       "      <td>16.67</td>\n",
       "      <td>2021-11-27</td>\n",
       "      <td>11</td>\n",
       "      <td>8</td>\n",
       "      <td>50</td>\n",
       "      <td>0</td>\n",
       "    </tr>\n",
       "    <tr>\n",
       "      <th>18067</th>\n",
       "      <td>1534</td>\n",
       "      <td>Альберт</td>\n",
       "      <td>25</td>\n",
       "      <td>Краснодар</td>\n",
       "      <td>free</td>\n",
       "      <td>2371.71</td>\n",
       "      <td>15.89</td>\n",
       "      <td>2021-12-29</td>\n",
       "      <td>12</td>\n",
       "      <td>8</td>\n",
       "      <td>50</td>\n",
       "      <td>0</td>\n",
       "    </tr>\n",
       "  </tbody>\n",
       "</table>\n",
       "<p>18068 rows × 12 columns</p>\n",
       "</div>"
      ],
      "text/plain": [
       "       user_id     name  age       city subscription_type  distance  duration  \\\n",
       "0            1     Кира   22     Тюмень             ultra   4409.92     25.60   \n",
       "1            1     Кира   22     Тюмень             ultra   2617.59     15.82   \n",
       "2            1     Кира   22     Тюмень             ultra    754.16      6.23   \n",
       "3            1     Кира   22     Тюмень             ultra   2694.78     18.51   \n",
       "4            1     Кира   22     Тюмень             ultra   4028.69     26.27   \n",
       "...        ...      ...  ...        ...               ...       ...       ...   \n",
       "18063     1534  Альберт   25  Краснодар              free   3781.10     19.82   \n",
       "18064     1534  Альберт   25  Краснодар              free   2840.42     21.41   \n",
       "18065     1534  Альберт   25  Краснодар              free   3826.19     18.44   \n",
       "18066     1534  Альберт   25  Краснодар              free   2902.31     16.67   \n",
       "18067     1534  Альберт   25  Краснодар              free   2371.71     15.89   \n",
       "\n",
       "            date  month  minute_price  start_ride_price  subscription_fee  \n",
       "0     2021-01-01      1             6                 0               199  \n",
       "1     2021-01-18      1             6                 0               199  \n",
       "2     2021-04-20      4             6                 0               199  \n",
       "3     2021-08-11      8             6                 0               199  \n",
       "4     2021-08-28      8             6                 0               199  \n",
       "...          ...    ...           ...               ...               ...  \n",
       "18063 2021-11-04     11             8                50                 0  \n",
       "18064 2021-11-16     11             8                50                 0  \n",
       "18065 2021-11-18     11             8                50                 0  \n",
       "18066 2021-11-27     11             8                50                 0  \n",
       "18067 2021-12-29     12             8                50                 0  \n",
       "\n",
       "[18068 rows x 12 columns]"
      ]
     },
     "metadata": {},
     "output_type": "display_data"
    },
    {
     "data": {
      "text/plain": [
       "user_id              0\n",
       "name                 0\n",
       "age                  0\n",
       "city                 0\n",
       "subscription_type    0\n",
       "distance             0\n",
       "duration             0\n",
       "date                 0\n",
       "month                0\n",
       "minute_price         0\n",
       "start_ride_price     0\n",
       "subscription_fee     0\n",
       "dtype: int64"
      ]
     },
     "execution_count": 19,
     "metadata": {},
     "output_type": "execute_result"
    }
   ],
   "source": [
    "full_data = users_go.merge(rides_go)\n",
    "super_full_data = full_data.merge(subscriptions_go)\n",
    "display(super_full_data)\n",
    "super_full_data.isna().sum()"
   ]
  },
  {
   "cell_type": "markdown",
   "id": "d60fc9a4",
   "metadata": {},
   "source": [
    "Созданный датафрейм, объединяющий таблицы rides_go, users_go, subscriptions_go в своем составе имеет 18068 строк во всех столбцах, что соответствует исходной таблице rides_go и указывает на отсутствие пропусков в столбцах"
   ]
  },
  {
   "cell_type": "markdown",
   "id": "d0e85dd2",
   "metadata": {},
   "source": [
    "### Создайте ещё два датафрейма"
   ]
  },
  {
   "cell_type": "markdown",
   "id": "009855f1",
   "metadata": {},
   "source": [
    "#### Данные о пользователях без подписки"
   ]
  },
  {
   "cell_type": "code",
   "execution_count": 20,
   "id": "e9ab9456",
   "metadata": {},
   "outputs": [
    {
     "data": {
      "text/html": [
       "<div>\n",
       "<style scoped>\n",
       "    .dataframe tbody tr th:only-of-type {\n",
       "        vertical-align: middle;\n",
       "    }\n",
       "\n",
       "    .dataframe tbody tr th {\n",
       "        vertical-align: top;\n",
       "    }\n",
       "\n",
       "    .dataframe thead th {\n",
       "        text-align: right;\n",
       "    }\n",
       "</style>\n",
       "<table border=\"1\" class=\"dataframe\">\n",
       "  <thead>\n",
       "    <tr style=\"text-align: right;\">\n",
       "      <th></th>\n",
       "      <th>user_id</th>\n",
       "      <th>name</th>\n",
       "      <th>age</th>\n",
       "      <th>city</th>\n",
       "      <th>subscription_type</th>\n",
       "      <th>distance</th>\n",
       "      <th>duration</th>\n",
       "      <th>date</th>\n",
       "      <th>month</th>\n",
       "      <th>minute_price</th>\n",
       "      <th>start_ride_price</th>\n",
       "      <th>subscription_fee</th>\n",
       "    </tr>\n",
       "  </thead>\n",
       "  <tbody>\n",
       "    <tr>\n",
       "      <th>0</th>\n",
       "      <td>1</td>\n",
       "      <td>Кира</td>\n",
       "      <td>22</td>\n",
       "      <td>Тюмень</td>\n",
       "      <td>ultra</td>\n",
       "      <td>4409.92</td>\n",
       "      <td>25.60</td>\n",
       "      <td>2021-01-01</td>\n",
       "      <td>1</td>\n",
       "      <td>6</td>\n",
       "      <td>0</td>\n",
       "      <td>199</td>\n",
       "    </tr>\n",
       "    <tr>\n",
       "      <th>1</th>\n",
       "      <td>1</td>\n",
       "      <td>Кира</td>\n",
       "      <td>22</td>\n",
       "      <td>Тюмень</td>\n",
       "      <td>ultra</td>\n",
       "      <td>2617.59</td>\n",
       "      <td>15.82</td>\n",
       "      <td>2021-01-18</td>\n",
       "      <td>1</td>\n",
       "      <td>6</td>\n",
       "      <td>0</td>\n",
       "      <td>199</td>\n",
       "    </tr>\n",
       "    <tr>\n",
       "      <th>2</th>\n",
       "      <td>1</td>\n",
       "      <td>Кира</td>\n",
       "      <td>22</td>\n",
       "      <td>Тюмень</td>\n",
       "      <td>ultra</td>\n",
       "      <td>754.16</td>\n",
       "      <td>6.23</td>\n",
       "      <td>2021-04-20</td>\n",
       "      <td>4</td>\n",
       "      <td>6</td>\n",
       "      <td>0</td>\n",
       "      <td>199</td>\n",
       "    </tr>\n",
       "    <tr>\n",
       "      <th>3</th>\n",
       "      <td>1</td>\n",
       "      <td>Кира</td>\n",
       "      <td>22</td>\n",
       "      <td>Тюмень</td>\n",
       "      <td>ultra</td>\n",
       "      <td>2694.78</td>\n",
       "      <td>18.51</td>\n",
       "      <td>2021-08-11</td>\n",
       "      <td>8</td>\n",
       "      <td>6</td>\n",
       "      <td>0</td>\n",
       "      <td>199</td>\n",
       "    </tr>\n",
       "    <tr>\n",
       "      <th>4</th>\n",
       "      <td>1</td>\n",
       "      <td>Кира</td>\n",
       "      <td>22</td>\n",
       "      <td>Тюмень</td>\n",
       "      <td>ultra</td>\n",
       "      <td>4028.69</td>\n",
       "      <td>26.27</td>\n",
       "      <td>2021-08-28</td>\n",
       "      <td>8</td>\n",
       "      <td>6</td>\n",
       "      <td>0</td>\n",
       "      <td>199</td>\n",
       "    </tr>\n",
       "    <tr>\n",
       "      <th>...</th>\n",
       "      <td>...</td>\n",
       "      <td>...</td>\n",
       "      <td>...</td>\n",
       "      <td>...</td>\n",
       "      <td>...</td>\n",
       "      <td>...</td>\n",
       "      <td>...</td>\n",
       "      <td>...</td>\n",
       "      <td>...</td>\n",
       "      <td>...</td>\n",
       "      <td>...</td>\n",
       "      <td>...</td>\n",
       "    </tr>\n",
       "    <tr>\n",
       "      <th>6495</th>\n",
       "      <td>699</td>\n",
       "      <td>Оксана</td>\n",
       "      <td>22</td>\n",
       "      <td>Москва</td>\n",
       "      <td>ultra</td>\n",
       "      <td>3973.05</td>\n",
       "      <td>24.67</td>\n",
       "      <td>2021-08-29</td>\n",
       "      <td>8</td>\n",
       "      <td>6</td>\n",
       "      <td>0</td>\n",
       "      <td>199</td>\n",
       "    </tr>\n",
       "    <tr>\n",
       "      <th>6496</th>\n",
       "      <td>699</td>\n",
       "      <td>Оксана</td>\n",
       "      <td>22</td>\n",
       "      <td>Москва</td>\n",
       "      <td>ultra</td>\n",
       "      <td>3288.70</td>\n",
       "      <td>15.89</td>\n",
       "      <td>2021-09-12</td>\n",
       "      <td>9</td>\n",
       "      <td>6</td>\n",
       "      <td>0</td>\n",
       "      <td>199</td>\n",
       "    </tr>\n",
       "    <tr>\n",
       "      <th>6497</th>\n",
       "      <td>699</td>\n",
       "      <td>Оксана</td>\n",
       "      <td>22</td>\n",
       "      <td>Москва</td>\n",
       "      <td>ultra</td>\n",
       "      <td>3076.16</td>\n",
       "      <td>14.39</td>\n",
       "      <td>2021-09-26</td>\n",
       "      <td>9</td>\n",
       "      <td>6</td>\n",
       "      <td>0</td>\n",
       "      <td>199</td>\n",
       "    </tr>\n",
       "    <tr>\n",
       "      <th>6498</th>\n",
       "      <td>699</td>\n",
       "      <td>Оксана</td>\n",
       "      <td>22</td>\n",
       "      <td>Москва</td>\n",
       "      <td>ultra</td>\n",
       "      <td>4707.85</td>\n",
       "      <td>15.84</td>\n",
       "      <td>2021-10-17</td>\n",
       "      <td>10</td>\n",
       "      <td>6</td>\n",
       "      <td>0</td>\n",
       "      <td>199</td>\n",
       "    </tr>\n",
       "    <tr>\n",
       "      <th>6499</th>\n",
       "      <td>699</td>\n",
       "      <td>Оксана</td>\n",
       "      <td>22</td>\n",
       "      <td>Москва</td>\n",
       "      <td>ultra</td>\n",
       "      <td>3202.89</td>\n",
       "      <td>25.22</td>\n",
       "      <td>2021-12-03</td>\n",
       "      <td>12</td>\n",
       "      <td>6</td>\n",
       "      <td>0</td>\n",
       "      <td>199</td>\n",
       "    </tr>\n",
       "  </tbody>\n",
       "</table>\n",
       "<p>6500 rows × 12 columns</p>\n",
       "</div>"
      ],
      "text/plain": [
       "      user_id    name  age    city subscription_type  distance  duration  \\\n",
       "0           1    Кира   22  Тюмень             ultra   4409.92     25.60   \n",
       "1           1    Кира   22  Тюмень             ultra   2617.59     15.82   \n",
       "2           1    Кира   22  Тюмень             ultra    754.16      6.23   \n",
       "3           1    Кира   22  Тюмень             ultra   2694.78     18.51   \n",
       "4           1    Кира   22  Тюмень             ultra   4028.69     26.27   \n",
       "...       ...     ...  ...     ...               ...       ...       ...   \n",
       "6495      699  Оксана   22  Москва             ultra   3973.05     24.67   \n",
       "6496      699  Оксана   22  Москва             ultra   3288.70     15.89   \n",
       "6497      699  Оксана   22  Москва             ultra   3076.16     14.39   \n",
       "6498      699  Оксана   22  Москва             ultra   4707.85     15.84   \n",
       "6499      699  Оксана   22  Москва             ultra   3202.89     25.22   \n",
       "\n",
       "           date  month  minute_price  start_ride_price  subscription_fee  \n",
       "0    2021-01-01      1             6                 0               199  \n",
       "1    2021-01-18      1             6                 0               199  \n",
       "2    2021-04-20      4             6                 0               199  \n",
       "3    2021-08-11      8             6                 0               199  \n",
       "4    2021-08-28      8             6                 0               199  \n",
       "...         ...    ...           ...               ...               ...  \n",
       "6495 2021-08-29      8             6                 0               199  \n",
       "6496 2021-09-12      9             6                 0               199  \n",
       "6497 2021-09-26      9             6                 0               199  \n",
       "6498 2021-10-17     10             6                 0               199  \n",
       "6499 2021-12-03     12             6                 0               199  \n",
       "\n",
       "[6500 rows x 12 columns]"
      ]
     },
     "execution_count": 20,
     "metadata": {},
     "output_type": "execute_result"
    }
   ],
   "source": [
    "ultra_sub = super_full_data.query(\"`subscription_type` == 'ultra'\")\n",
    "ultra_sub"
   ]
  },
  {
   "cell_type": "code",
   "execution_count": 21,
   "id": "1625af9e",
   "metadata": {},
   "outputs": [
    {
     "data": {
      "image/png": "[encoded data removed]",
      "text/plain": [
       "<Figure size 432x288 with 1 Axes>"
      ]
     },
     "metadata": {
      "needs_background": "light"
     },
     "output_type": "display_data"
    }
   ],
   "source": [
    "plt.hist(ultra_sub.distance, bins=124)\n",
    "plt.title('Пройденное расстояние с подпиской')\n",
    "plt.xlabel('Расстояние(м)')\n",
    "plt.ylabel('Количество пользователей')\n",
    "plt.show()"
   ]
  },
  {
   "cell_type": "code",
   "execution_count": 22,
   "id": "2c45287d",
   "metadata": {},
   "outputs": [
    {
     "data": {
      "image/png": "[encoded data removed]",
      "text/plain": [
       "<Figure size 432x288 with 1 Axes>"
      ]
     },
     "metadata": {
      "needs_background": "light"
     },
     "output_type": "display_data"
    }
   ],
   "source": [
    "plt.hist(ultra_sub.duration, bins=124)\n",
    "plt.title('Время использования с подпиской')\n",
    "plt.xlabel('Продолжительность(м)')\n",
    "plt.ylabel('Количество пользователей')\n",
    "plt.show()"
   ]
  },
  {
   "cell_type": "markdown",
   "id": "c789d0e8",
   "metadata": {},
   "source": [
    "#### Данные о пользователях с подпиской"
   ]
  },
  {
   "cell_type": "code",
   "execution_count": 23,
   "id": "c80bef00",
   "metadata": {},
   "outputs": [
    {
     "data": {
      "text/html": [
       "<div>\n",
       "<style scoped>\n",
       "    .dataframe tbody tr th:only-of-type {\n",
       "        vertical-align: middle;\n",
       "    }\n",
       "\n",
       "    .dataframe tbody tr th {\n",
       "        vertical-align: top;\n",
       "    }\n",
       "\n",
       "    .dataframe thead th {\n",
       "        text-align: right;\n",
       "    }\n",
       "</style>\n",
       "<table border=\"1\" class=\"dataframe\">\n",
       "  <thead>\n",
       "    <tr style=\"text-align: right;\">\n",
       "      <th></th>\n",
       "      <th>user_id</th>\n",
       "      <th>name</th>\n",
       "      <th>age</th>\n",
       "      <th>city</th>\n",
       "      <th>subscription_type</th>\n",
       "      <th>distance</th>\n",
       "      <th>duration</th>\n",
       "      <th>date</th>\n",
       "      <th>month</th>\n",
       "      <th>minute_price</th>\n",
       "      <th>start_ride_price</th>\n",
       "      <th>subscription_fee</th>\n",
       "    </tr>\n",
       "  </thead>\n",
       "  <tbody>\n",
       "    <tr>\n",
       "      <th>6500</th>\n",
       "      <td>700</td>\n",
       "      <td>Айдар</td>\n",
       "      <td>22</td>\n",
       "      <td>Омск</td>\n",
       "      <td>free</td>\n",
       "      <td>2515.69</td>\n",
       "      <td>14.94</td>\n",
       "      <td>2021-01-02</td>\n",
       "      <td>1</td>\n",
       "      <td>8</td>\n",
       "      <td>50</td>\n",
       "      <td>0</td>\n",
       "    </tr>\n",
       "    <tr>\n",
       "      <th>6501</th>\n",
       "      <td>700</td>\n",
       "      <td>Айдар</td>\n",
       "      <td>22</td>\n",
       "      <td>Омск</td>\n",
       "      <td>free</td>\n",
       "      <td>846.93</td>\n",
       "      <td>16.23</td>\n",
       "      <td>2021-02-01</td>\n",
       "      <td>2</td>\n",
       "      <td>8</td>\n",
       "      <td>50</td>\n",
       "      <td>0</td>\n",
       "    </tr>\n",
       "    <tr>\n",
       "      <th>6502</th>\n",
       "      <td>700</td>\n",
       "      <td>Айдар</td>\n",
       "      <td>22</td>\n",
       "      <td>Омск</td>\n",
       "      <td>free</td>\n",
       "      <td>4004.43</td>\n",
       "      <td>20.02</td>\n",
       "      <td>2021-02-04</td>\n",
       "      <td>2</td>\n",
       "      <td>8</td>\n",
       "      <td>50</td>\n",
       "      <td>0</td>\n",
       "    </tr>\n",
       "    <tr>\n",
       "      <th>6503</th>\n",
       "      <td>700</td>\n",
       "      <td>Айдар</td>\n",
       "      <td>22</td>\n",
       "      <td>Омск</td>\n",
       "      <td>free</td>\n",
       "      <td>1205.91</td>\n",
       "      <td>9.78</td>\n",
       "      <td>2021-02-10</td>\n",
       "      <td>2</td>\n",
       "      <td>8</td>\n",
       "      <td>50</td>\n",
       "      <td>0</td>\n",
       "    </tr>\n",
       "    <tr>\n",
       "      <th>6504</th>\n",
       "      <td>700</td>\n",
       "      <td>Айдар</td>\n",
       "      <td>22</td>\n",
       "      <td>Омск</td>\n",
       "      <td>free</td>\n",
       "      <td>3047.38</td>\n",
       "      <td>17.43</td>\n",
       "      <td>2021-02-14</td>\n",
       "      <td>2</td>\n",
       "      <td>8</td>\n",
       "      <td>50</td>\n",
       "      <td>0</td>\n",
       "    </tr>\n",
       "    <tr>\n",
       "      <th>...</th>\n",
       "      <td>...</td>\n",
       "      <td>...</td>\n",
       "      <td>...</td>\n",
       "      <td>...</td>\n",
       "      <td>...</td>\n",
       "      <td>...</td>\n",
       "      <td>...</td>\n",
       "      <td>...</td>\n",
       "      <td>...</td>\n",
       "      <td>...</td>\n",
       "      <td>...</td>\n",
       "      <td>...</td>\n",
       "    </tr>\n",
       "    <tr>\n",
       "      <th>18063</th>\n",
       "      <td>1534</td>\n",
       "      <td>Альберт</td>\n",
       "      <td>25</td>\n",
       "      <td>Краснодар</td>\n",
       "      <td>free</td>\n",
       "      <td>3781.10</td>\n",
       "      <td>19.82</td>\n",
       "      <td>2021-11-04</td>\n",
       "      <td>11</td>\n",
       "      <td>8</td>\n",
       "      <td>50</td>\n",
       "      <td>0</td>\n",
       "    </tr>\n",
       "    <tr>\n",
       "      <th>18064</th>\n",
       "      <td>1534</td>\n",
       "      <td>Альберт</td>\n",
       "      <td>25</td>\n",
       "      <td>Краснодар</td>\n",
       "      <td>free</td>\n",
       "      <td>2840.42</td>\n",
       "      <td>21.41</td>\n",
       "      <td>2021-11-16</td>\n",
       "      <td>11</td>\n",
       "      <td>8</td>\n",
       "      <td>50</td>\n",
       "      <td>0</td>\n",
       "    </tr>\n",
       "    <tr>\n",
       "      <th>18065</th>\n",
       "      <td>1534</td>\n",
       "      <td>Альберт</td>\n",
       "      <td>25</td>\n",
       "      <td>Краснодар</td>\n",
       "      <td>free</td>\n",
       "      <td>3826.19</td>\n",
       "      <td>18.44</td>\n",
       "      <td>2021-11-18</td>\n",
       "      <td>11</td>\n",
       "      <td>8</td>\n",
       "      <td>50</td>\n",
       "      <td>0</td>\n",
       "    </tr>\n",
       "    <tr>\n",
       "      <th>18066</th>\n",
       "      <td>1534</td>\n",
       "      <td>Альберт</td>\n",
       "      <td>25</td>\n",
       "      <td>Краснодар</td>\n",
       "      <td>free</td>\n",
       "      <td>2902.31</td>\n",
       "      <td>16.67</td>\n",
       "      <td>2021-11-27</td>\n",
       "      <td>11</td>\n",
       "      <td>8</td>\n",
       "      <td>50</td>\n",
       "      <td>0</td>\n",
       "    </tr>\n",
       "    <tr>\n",
       "      <th>18067</th>\n",
       "      <td>1534</td>\n",
       "      <td>Альберт</td>\n",
       "      <td>25</td>\n",
       "      <td>Краснодар</td>\n",
       "      <td>free</td>\n",
       "      <td>2371.71</td>\n",
       "      <td>15.89</td>\n",
       "      <td>2021-12-29</td>\n",
       "      <td>12</td>\n",
       "      <td>8</td>\n",
       "      <td>50</td>\n",
       "      <td>0</td>\n",
       "    </tr>\n",
       "  </tbody>\n",
       "</table>\n",
       "<p>11568 rows × 12 columns</p>\n",
       "</div>"
      ],
      "text/plain": [
       "       user_id     name  age       city subscription_type  distance  duration  \\\n",
       "6500       700    Айдар   22       Омск              free   2515.69     14.94   \n",
       "6501       700    Айдар   22       Омск              free    846.93     16.23   \n",
       "6502       700    Айдар   22       Омск              free   4004.43     20.02   \n",
       "6503       700    Айдар   22       Омск              free   1205.91      9.78   \n",
       "6504       700    Айдар   22       Омск              free   3047.38     17.43   \n",
       "...        ...      ...  ...        ...               ...       ...       ...   \n",
       "18063     1534  Альберт   25  Краснодар              free   3781.10     19.82   \n",
       "18064     1534  Альберт   25  Краснодар              free   2840.42     21.41   \n",
       "18065     1534  Альберт   25  Краснодар              free   3826.19     18.44   \n",
       "18066     1534  Альберт   25  Краснодар              free   2902.31     16.67   \n",
       "18067     1534  Альберт   25  Краснодар              free   2371.71     15.89   \n",
       "\n",
       "            date  month  minute_price  start_ride_price  subscription_fee  \n",
       "6500  2021-01-02      1             8                50                 0  \n",
       "6501  2021-02-01      2             8                50                 0  \n",
       "6502  2021-02-04      2             8                50                 0  \n",
       "6503  2021-02-10      2             8                50                 0  \n",
       "6504  2021-02-14      2             8                50                 0  \n",
       "...          ...    ...           ...               ...               ...  \n",
       "18063 2021-11-04     11             8                50                 0  \n",
       "18064 2021-11-16     11             8                50                 0  \n",
       "18065 2021-11-18     11             8                50                 0  \n",
       "18066 2021-11-27     11             8                50                 0  \n",
       "18067 2021-12-29     12             8                50                 0  \n",
       "\n",
       "[11568 rows x 12 columns]"
      ]
     },
     "execution_count": 23,
     "metadata": {},
     "output_type": "execute_result"
    }
   ],
   "source": [
    "free_sub = super_full_data.query(\"`subscription_type` == 'free'\")\n",
    "free_sub"
   ]
  },
  {
   "cell_type": "code",
   "execution_count": 24,
   "id": "8c82e190",
   "metadata": {},
   "outputs": [
    {
     "data": {
      "image/png": "[encoded data removed]",
      "text/plain": [
       "<Figure size 432x288 with 1 Axes>"
      ]
     },
     "metadata": {
      "needs_background": "light"
     },
     "output_type": "display_data"
    }
   ],
   "source": [
    "plt.hist(free_sub.distance, bins=124)\n",
    "plt.title('Пройденное расстояние без подписки')\n",
    "plt.xlabel('Расстояние(м)')\n",
    "plt.ylabel('Количество пользователей')\n",
    "plt.show()"
   ]
  },
  {
   "cell_type": "code",
   "execution_count": 25,
   "id": "9f637164",
   "metadata": {},
   "outputs": [
    {
     "data": {
      "image/png": "[encoded data removed]",
      "text/plain": [
       "<Figure size 432x288 with 1 Axes>"
      ]
     },
     "metadata": {
      "needs_background": "light"
     },
     "output_type": "display_data"
    }
   ],
   "source": [
    "plt.hist(free_sub.duration, bins=124)\n",
    "plt.title('Время использования без подписки')\n",
    "plt.xlabel('Продолжительность(м)')\n",
    "plt.ylabel('Количество пользователей')\n",
    "plt.show()"
   ]
  },
  {
   "cell_type": "code",
   "execution_count": 26,
   "id": "d7a40769",
   "metadata": {},
   "outputs": [
    {
     "data": {
      "image/png": "[encoded data removed]",
      "text/plain": [
       "<Figure size 432x288 with 1 Axes>"
      ]
     },
     "metadata": {
      "needs_background": "light"
     },
     "output_type": "display_data"
    }
   ],
   "source": [
    "#сравним гистограммы продолжительности поездки с подпиской и без\n",
    "plt.hist(free_sub.duration, bins=124)\n",
    "plt.hist(ultra_sub.duration, bins=124)\n",
    "plt.show()"
   ]
  },
  {
   "cell_type": "code",
   "execution_count": 27,
   "id": "d58b70dc",
   "metadata": {},
   "outputs": [
    {
     "data": {
      "image/png": "[encoded data removed]",
      "text/plain": [
       "<Figure size 432x288 with 1 Axes>"
      ]
     },
     "metadata": {
      "needs_background": "light"
     },
     "output_type": "display_data"
    }
   ],
   "source": [
    "#сравним гистограммы пройденнго расстояния с подпиской и без\n",
    "plt.hist(free_sub.distance, bins=124)\n",
    "plt.hist(ultra_sub.distance, bins=124)\n",
    "plt.show()"
   ]
  },
  {
   "cell_type": "markdown",
   "id": "6d807ce1",
   "metadata": {},
   "source": [
    "с подпиской от 2200 до 4500,а без подписки от 2000 до 5000"
   ]
  },
  {
   "cell_type": "markdown",
   "id": "360a0e70",
   "metadata": {},
   "source": [
    "Объединили данные о пользователях, поездках и подписках в один датафрейм. На основе объединенного датафрейма создали еще 2 датафрейма:  \n",
    "\n",
    "- Для пользователей с ultra подпиской  \n",
    "- Для пользователей без подписки    \n",
    "\n",
    "Дальше визуализировали информацию о расстоянии и времени поездки для пользоватей каждого тарифа.  \n",
    "- Для бесплатного тарифа время поездки составляет от 10 до 30 минут, и проезжают от 2000м до 50000м, есть пользователи, которые проехали даже 6, 6.5 км.\n",
    "- Платный тариф. В основном время укладывается в промежуток от 7 до 28 минут. Проезжают от 2200м до 4500м."
   ]
  },
  {
   "cell_type": "markdown",
   "id": "b10dc34b",
   "metadata": {},
   "source": [
    "## Подсчет выручки"
   ]
  },
  {
   "cell_type": "markdown",
   "id": "15a97911",
   "metadata": {},
   "source": [
    "### Суммарное расстояние, количество поездок и суммарное время для каждого пользователя за каждый месяц"
   ]
  },
  {
   "cell_type": "code",
   "execution_count": 28,
   "id": "cce6d44a",
   "metadata": {},
   "outputs": [
    {
     "data": {
      "text/html": [
       "<div>\n",
       "<style scoped>\n",
       "    .dataframe tbody tr th:only-of-type {\n",
       "        vertical-align: middle;\n",
       "    }\n",
       "\n",
       "    .dataframe tbody tr th {\n",
       "        vertical-align: top;\n",
       "    }\n",
       "\n",
       "    .dataframe thead th {\n",
       "        text-align: right;\n",
       "    }\n",
       "</style>\n",
       "<table border=\"1\" class=\"dataframe\">\n",
       "  <thead>\n",
       "    <tr style=\"text-align: right;\">\n",
       "      <th></th>\n",
       "      <th></th>\n",
       "      <th></th>\n",
       "      <th>count_distance</th>\n",
       "      <th>distance</th>\n",
       "      <th>duration</th>\n",
       "      <th>minute_price</th>\n",
       "      <th>start_ride_price</th>\n",
       "      <th>subscription_fee</th>\n",
       "    </tr>\n",
       "    <tr>\n",
       "      <th>user_id</th>\n",
       "      <th>month</th>\n",
       "      <th>subscription_type</th>\n",
       "      <th></th>\n",
       "      <th></th>\n",
       "      <th></th>\n",
       "      <th></th>\n",
       "      <th></th>\n",
       "      <th></th>\n",
       "    </tr>\n",
       "  </thead>\n",
       "  <tbody>\n",
       "    <tr>\n",
       "      <th rowspan=\"5\" valign=\"top\">1</th>\n",
       "      <th>1</th>\n",
       "      <th>ultra</th>\n",
       "      <td>2</td>\n",
       "      <td>7027.51</td>\n",
       "      <td>42.0</td>\n",
       "      <td>6</td>\n",
       "      <td>0</td>\n",
       "      <td>199</td>\n",
       "    </tr>\n",
       "    <tr>\n",
       "      <th>4</th>\n",
       "      <th>ultra</th>\n",
       "      <td>1</td>\n",
       "      <td>754.16</td>\n",
       "      <td>7.0</td>\n",
       "      <td>6</td>\n",
       "      <td>0</td>\n",
       "      <td>199</td>\n",
       "    </tr>\n",
       "    <tr>\n",
       "      <th>8</th>\n",
       "      <th>ultra</th>\n",
       "      <td>2</td>\n",
       "      <td>6723.47</td>\n",
       "      <td>45.0</td>\n",
       "      <td>6</td>\n",
       "      <td>0</td>\n",
       "      <td>199</td>\n",
       "    </tr>\n",
       "    <tr>\n",
       "      <th>10</th>\n",
       "      <th>ultra</th>\n",
       "      <td>2</td>\n",
       "      <td>5809.91</td>\n",
       "      <td>32.0</td>\n",
       "      <td>6</td>\n",
       "      <td>0</td>\n",
       "      <td>199</td>\n",
       "    </tr>\n",
       "    <tr>\n",
       "      <th>11</th>\n",
       "      <th>ultra</th>\n",
       "      <td>3</td>\n",
       "      <td>7003.50</td>\n",
       "      <td>54.0</td>\n",
       "      <td>6</td>\n",
       "      <td>0</td>\n",
       "      <td>199</td>\n",
       "    </tr>\n",
       "  </tbody>\n",
       "</table>\n",
       "</div>"
      ],
      "text/plain": [
       "                                 count_distance  distance  duration  \\\n",
       "user_id month subscription_type                                       \n",
       "1       1     ultra                           2   7027.51      42.0   \n",
       "        4     ultra                           1    754.16       7.0   \n",
       "        8     ultra                           2   6723.47      45.0   \n",
       "        10    ultra                           2   5809.91      32.0   \n",
       "        11    ultra                           3   7003.50      54.0   \n",
       "\n",
       "                                 minute_price  start_ride_price  \\\n",
       "user_id month subscription_type                                   \n",
       "1       1     ultra                         6                 0   \n",
       "        4     ultra                         6                 0   \n",
       "        8     ultra                         6                 0   \n",
       "        10    ultra                         6                 0   \n",
       "        11    ultra                         6                 0   \n",
       "\n",
       "                                 subscription_fee  \n",
       "user_id month subscription_type                    \n",
       "1       1     ultra                           199  \n",
       "        4     ultra                           199  \n",
       "        8     ultra                           199  \n",
       "        10    ultra                           199  \n",
       "        11    ultra                           199  "
      ]
     },
     "execution_count": 28,
     "metadata": {},
     "output_type": "execute_result"
    }
   ],
   "source": [
    "revenue_calc = super_full_data.pivot_table(\n",
    "    index=('user_id', 'month','subscription_type'), \n",
    "    values=(\n",
    "        'distance', \n",
    "        'duration', \n",
    "        'minute_price', \n",
    "        'start_ride_price', \n",
    "        'subscription_fee'\n",
    "    ), \n",
    "    aggfunc=({'distance':{'count', 'sum'}, \n",
    "             'duration':'sum',\n",
    "             'minute_price': 'mean',\n",
    "             'start_ride_price':'mean',\n",
    "             'subscription_fee':'mean',})\n",
    ")\n",
    "revenue_calc.columns = [\n",
    "    'count_distance', 'distance', \n",
    "    'duration', \n",
    "    'minute_price',\n",
    "    'start_ride_price', \n",
    "    'subscription_fee'\n",
    "]\n",
    "revenue_calc['duration'] = np.ceil(revenue_calc['duration'])\n",
    "revenue_calc.head()"
   ]
  },
  {
   "cell_type": "markdown",
   "id": "4b20e2a4",
   "metadata": {},
   "source": [
    "### Добавляем столбец с помесячной выручкой, которую принёс каждый пользователь."
   ]
  },
  {
   "cell_type": "code",
   "execution_count": 29,
   "id": "1963adee",
   "metadata": {},
   "outputs": [
    {
     "name": "stdout",
     "output_type": "stream",
     "text": [
      "Всего заработано: 3853193.0 руб\n"
     ]
    }
   ],
   "source": [
    "revenue_calc['revenue'] = (\n",
    "revenue_calc['start_ride_price']*revenue_calc['count_distance']+\n",
    "revenue_calc['minute_price']*revenue_calc['duration']+\n",
    "revenue_calc['subscription_fee'])\n",
    "print('Всего заработано:',revenue_calc.revenue.sum(),'руб')"
   ]
  },
  {
   "cell_type": "code",
   "execution_count": 30,
   "id": "1b6e935e",
   "metadata": {},
   "outputs": [
    {
     "data": {
      "text/html": [
       "<div>\n",
       "<style scoped>\n",
       "    .dataframe tbody tr th:only-of-type {\n",
       "        vertical-align: middle;\n",
       "    }\n",
       "\n",
       "    .dataframe tbody tr th {\n",
       "        vertical-align: top;\n",
       "    }\n",
       "\n",
       "    .dataframe thead th {\n",
       "        text-align: right;\n",
       "    }\n",
       "</style>\n",
       "<table border=\"1\" class=\"dataframe\">\n",
       "  <thead>\n",
       "    <tr style=\"text-align: right;\">\n",
       "      <th></th>\n",
       "      <th></th>\n",
       "      <th></th>\n",
       "      <th>count_distance</th>\n",
       "      <th>distance</th>\n",
       "      <th>duration</th>\n",
       "      <th>minute_price</th>\n",
       "      <th>start_ride_price</th>\n",
       "      <th>subscription_fee</th>\n",
       "      <th>revenue</th>\n",
       "    </tr>\n",
       "    <tr>\n",
       "      <th>user_id</th>\n",
       "      <th>month</th>\n",
       "      <th>subscription_type</th>\n",
       "      <th></th>\n",
       "      <th></th>\n",
       "      <th></th>\n",
       "      <th></th>\n",
       "      <th></th>\n",
       "      <th></th>\n",
       "      <th></th>\n",
       "    </tr>\n",
       "  </thead>\n",
       "  <tbody>\n",
       "    <tr>\n",
       "      <th rowspan=\"5\" valign=\"top\">1</th>\n",
       "      <th>1</th>\n",
       "      <th>ultra</th>\n",
       "      <td>2</td>\n",
       "      <td>7027.51</td>\n",
       "      <td>42.0</td>\n",
       "      <td>6</td>\n",
       "      <td>0</td>\n",
       "      <td>199</td>\n",
       "      <td>451.0</td>\n",
       "    </tr>\n",
       "    <tr>\n",
       "      <th>4</th>\n",
       "      <th>ultra</th>\n",
       "      <td>1</td>\n",
       "      <td>754.16</td>\n",
       "      <td>7.0</td>\n",
       "      <td>6</td>\n",
       "      <td>0</td>\n",
       "      <td>199</td>\n",
       "      <td>241.0</td>\n",
       "    </tr>\n",
       "    <tr>\n",
       "      <th>8</th>\n",
       "      <th>ultra</th>\n",
       "      <td>2</td>\n",
       "      <td>6723.47</td>\n",
       "      <td>45.0</td>\n",
       "      <td>6</td>\n",
       "      <td>0</td>\n",
       "      <td>199</td>\n",
       "      <td>469.0</td>\n",
       "    </tr>\n",
       "    <tr>\n",
       "      <th>10</th>\n",
       "      <th>ultra</th>\n",
       "      <td>2</td>\n",
       "      <td>5809.91</td>\n",
       "      <td>32.0</td>\n",
       "      <td>6</td>\n",
       "      <td>0</td>\n",
       "      <td>199</td>\n",
       "      <td>391.0</td>\n",
       "    </tr>\n",
       "    <tr>\n",
       "      <th>11</th>\n",
       "      <th>ultra</th>\n",
       "      <td>3</td>\n",
       "      <td>7003.50</td>\n",
       "      <td>54.0</td>\n",
       "      <td>6</td>\n",
       "      <td>0</td>\n",
       "      <td>199</td>\n",
       "      <td>523.0</td>\n",
       "    </tr>\n",
       "    <tr>\n",
       "      <th>...</th>\n",
       "      <th>...</th>\n",
       "      <th>...</th>\n",
       "      <td>...</td>\n",
       "      <td>...</td>\n",
       "      <td>...</td>\n",
       "      <td>...</td>\n",
       "      <td>...</td>\n",
       "      <td>...</td>\n",
       "      <td>...</td>\n",
       "    </tr>\n",
       "    <tr>\n",
       "      <th rowspan=\"5\" valign=\"top\">1534</th>\n",
       "      <th>6</th>\n",
       "      <th>free</th>\n",
       "      <td>2</td>\n",
       "      <td>3409.47</td>\n",
       "      <td>25.0</td>\n",
       "      <td>8</td>\n",
       "      <td>50</td>\n",
       "      <td>0</td>\n",
       "      <td>300.0</td>\n",
       "    </tr>\n",
       "    <tr>\n",
       "      <th>8</th>\n",
       "      <th>free</th>\n",
       "      <td>2</td>\n",
       "      <td>7622.45</td>\n",
       "      <td>48.0</td>\n",
       "      <td>8</td>\n",
       "      <td>50</td>\n",
       "      <td>0</td>\n",
       "      <td>484.0</td>\n",
       "    </tr>\n",
       "    <tr>\n",
       "      <th>9</th>\n",
       "      <th>free</th>\n",
       "      <td>1</td>\n",
       "      <td>4928.17</td>\n",
       "      <td>23.0</td>\n",
       "      <td>8</td>\n",
       "      <td>50</td>\n",
       "      <td>0</td>\n",
       "      <td>234.0</td>\n",
       "    </tr>\n",
       "    <tr>\n",
       "      <th>11</th>\n",
       "      <th>free</th>\n",
       "      <td>4</td>\n",
       "      <td>13350.02</td>\n",
       "      <td>77.0</td>\n",
       "      <td>8</td>\n",
       "      <td>50</td>\n",
       "      <td>0</td>\n",
       "      <td>816.0</td>\n",
       "    </tr>\n",
       "    <tr>\n",
       "      <th>12</th>\n",
       "      <th>free</th>\n",
       "      <td>1</td>\n",
       "      <td>2371.71</td>\n",
       "      <td>16.0</td>\n",
       "      <td>8</td>\n",
       "      <td>50</td>\n",
       "      <td>0</td>\n",
       "      <td>178.0</td>\n",
       "    </tr>\n",
       "  </tbody>\n",
       "</table>\n",
       "<p>11331 rows × 7 columns</p>\n",
       "</div>"
      ],
      "text/plain": [
       "                                 count_distance  distance  duration  \\\n",
       "user_id month subscription_type                                       \n",
       "1       1     ultra                           2   7027.51      42.0   \n",
       "        4     ultra                           1    754.16       7.0   \n",
       "        8     ultra                           2   6723.47      45.0   \n",
       "        10    ultra                           2   5809.91      32.0   \n",
       "        11    ultra                           3   7003.50      54.0   \n",
       "...                                         ...       ...       ...   \n",
       "1534    6     free                            2   3409.47      25.0   \n",
       "        8     free                            2   7622.45      48.0   \n",
       "        9     free                            1   4928.17      23.0   \n",
       "        11    free                            4  13350.02      77.0   \n",
       "        12    free                            1   2371.71      16.0   \n",
       "\n",
       "                                 minute_price  start_ride_price  \\\n",
       "user_id month subscription_type                                   \n",
       "1       1     ultra                         6                 0   \n",
       "        4     ultra                         6                 0   \n",
       "        8     ultra                         6                 0   \n",
       "        10    ultra                         6                 0   \n",
       "        11    ultra                         6                 0   \n",
       "...                                       ...               ...   \n",
       "1534    6     free                          8                50   \n",
       "        8     free                          8                50   \n",
       "        9     free                          8                50   \n",
       "        11    free                          8                50   \n",
       "        12    free                          8                50   \n",
       "\n",
       "                                 subscription_fee  revenue  \n",
       "user_id month subscription_type                             \n",
       "1       1     ultra                           199    451.0  \n",
       "        4     ultra                           199    241.0  \n",
       "        8     ultra                           199    469.0  \n",
       "        10    ultra                           199    391.0  \n",
       "        11    ultra                           199    523.0  \n",
       "...                                           ...      ...  \n",
       "1534    6     free                              0    300.0  \n",
       "        8     free                              0    484.0  \n",
       "        9     free                              0    234.0  \n",
       "        11    free                              0    816.0  \n",
       "        12    free                              0    178.0  \n",
       "\n",
       "[11331 rows x 7 columns]"
      ]
     },
     "execution_count": 30,
     "metadata": {},
     "output_type": "execute_result"
    }
   ],
   "source": [
    "revenue_calc"
   ]
  },
  {
   "cell_type": "markdown",
   "id": "544123ae",
   "metadata": {},
   "source": [
    "## Проверка гипотез"
   ]
  },
  {
   "cell_type": "markdown",
   "id": "17236a87",
   "metadata": {},
   "source": [
    "### Пользователи с подпиской тратят больше времени на поездки"
   ]
  },
  {
   "cell_type": "markdown",
   "id": "eaf5403d",
   "metadata": {},
   "source": [
    "H0 - Время потраченное пользователями на поездку с подпиской и без одинаково  \n",
    "H1 - Время потраченное пользователями на поездку с подпиской больше чем без  "
   ]
  },
  {
   "cell_type": "code",
   "execution_count": 31,
   "id": "727443c4",
   "metadata": {},
   "outputs": [
    {
     "name": "stdout",
     "output_type": "stream",
     "text": [
      "1.274138957151199e-34\n",
      "Отвергаем нулевую гипотезу\n"
     ]
    }
   ],
   "source": [
    "ultra = ultra_sub['duration'] \n",
    "\n",
    "free = free_sub['duration']\n",
    "\n",
    "results = st.ttest_ind(ultra, \n",
    "                       free,\n",
    "                       alternative = 'greater')\n",
    "\n",
    "alpha = 0.05\n",
    "\n",
    "print(results.pvalue)\n",
    "\n",
    "if results.pvalue < alpha:\n",
    "    print('Отвергаем нулевую гипотезу')\n",
    "else:\n",
    "    print('Нет оснований отвергнуть нулевую гипотезу')"
   ]
  },
  {
   "cell_type": "markdown",
   "id": "a8da39c6",
   "metadata": {},
   "source": [
    "Нулевая гипотеза отвергнута, время потраченное пользователями на поездку с подпиской больше чем без"
   ]
  },
  {
   "cell_type": "markdown",
   "id": "079f8869",
   "metadata": {},
   "source": [
    "### Среднее расстояние, которое проезжают пользователи с подпиской за одну поездку, не превышает 3130 метров\n"
   ]
  },
  {
   "cell_type": "markdown",
   "id": "24bb4291",
   "metadata": {},
   "source": [
    "H0 - Среднее расстояние которое проезжает пользователь равно 3130м   \n",
    "H1 - Среднее расстояние которое проезжает пользователь больше 3130м"
   ]
  },
  {
   "cell_type": "code",
   "execution_count": 32,
   "id": "a493466a",
   "metadata": {},
   "outputs": [
    {
     "name": "stdout",
     "output_type": "stream",
     "text": [
      "0.9195362605842414\n",
      "Нет оснований отвергнуть нулевую гипотезу\n"
     ]
    }
   ],
   "source": [
    "ultra = ultra_sub['distance'] \n",
    "\n",
    "optimal = 3130\n",
    "\n",
    "results = st.ttest_1samp(ultra, \n",
    "                       optimal,\n",
    "                       alternative = 'greater')\n",
    "\n",
    "alpha = 0.05\n",
    "\n",
    "print(results.pvalue)\n",
    "\n",
    "if results.pvalue < alpha:\n",
    "    print('Отвергаем нулевую гипотезу')\n",
    "else:\n",
    "    print('Нет оснований отвергнуть нулевую гипотезу')"
   ]
  },
  {
   "cell_type": "markdown",
   "id": "2c0f617e",
   "metadata": {},
   "source": [
    "Не отвергаем нулевую гипотезу, получается что среднее расстояние которое проезжает пользователь примерно равно 3130м"
   ]
  },
  {
   "cell_type": "markdown",
   "id": "42cfa8fc",
   "metadata": {},
   "source": [
    "### Помесячная выручка от пользователей с подпиской по месяцам выше, чем выручка от пользователей без подписки. "
   ]
  },
  {
   "cell_type": "markdown",
   "id": "e1ff1bc2",
   "metadata": {},
   "source": [
    "H0 - Выручка от пользователей с подпиской равна выручке от пользователей без подписки   \n",
    "H1 - Выручка от пользователей с подпиской больше чем  выручка от пользователей без подписки "
   ]
  },
  {
   "cell_type": "code",
   "execution_count": 33,
   "id": "59168a0a",
   "metadata": {},
   "outputs": [
    {
     "name": "stdout",
     "output_type": "stream",
     "text": [
      "2.743416414547796e-35\n",
      "Отвергаем нулевую гипотезу\n"
     ]
    }
   ],
   "source": [
    "results = st.ttest_ind(\n",
    "    revenue_calc.loc[revenue_calc['subscription_fee'] == 199, 'revenue'], \n",
    "    revenue_calc.loc[revenue_calc['subscription_fee'] == 0, 'revenue'], \n",
    "    equal_var=True, \n",
    "    alternative='greater')\n",
    "print(results.pvalue)\n",
    "\n",
    "alpha = 0.05\n",
    "if results.pvalue < alpha:\n",
    "    print('Отвергаем нулевую гипотезу')\n",
    "else:\n",
    "    print('Не получилось отвергнуть нулевую гипотезу')"
   ]
  },
  {
   "cell_type": "markdown",
   "id": "98192162",
   "metadata": {},
   "source": [
    "Мы можем утверждать, что выручка с пользователей на подписке ultra превышает выручку с пользователей на подписке free"
   ]
  },
  {
   "cell_type": "markdown",
   "id": "c67655b2",
   "metadata": {},
   "source": [
    "### Техническая команда сервиса обновила сервера, с которыми взаимодействует мобильное приложение. Она надеется, что из-за этого количество обращений в техподдержку значимо снизилось. Некоторый файл содержит для каждого пользователя данные о количестве обращений до обновления и после него. Какой тест вам понадобился бы для проверки этой гипотезы?"
   ]
  },
  {
   "cell_type": "markdown",
   "id": "8b228f47",
   "metadata": {},
   "source": [
    "## Вывод"
   ]
  },
  {
   "cell_type": "markdown",
   "id": "962560af",
   "metadata": {},
   "source": [
    "**1. Загрузка данных**  \n",
    "Загрузили 3 таблицы:  \n",
    " - users_go всего 1565 строк;  \n",
    " - rides_go всего 18068 строк;  \n",
    " - subscriptions_go 2 строки.\n",
    "\n",
    "**2. Предобработка данных**    \n",
    "Поменяли тип данных в столбце с датой в таблице rides_go  \n",
    "Проверили дубликаты, удалили там где обнаружили  \n",
    "Добавили новый столбец с номером месяца  \n",
    "Проверили пропуски  \n",
    "\n",
    "**3. Исследовательский анализ данных**\n",
    " - Получается что больше всего пользователей в Пятигорске, а меньше всего в Москве  \n",
    " - Пользователей без подписки - 54,4%  \n",
    "   Пользователей с подпиской - 45,6%  \n",
    " - Общий диапозон пользователей от 12 до 43 лет. Больше всего пользователей от 20 до 31 года  \n",
    " - Больше всего пользователей ездят от 2000 до 5000 метров  \n",
    " - В основном продолжительность поездки от 10 до 30 минут, так же видим большой всплеск около 0, возможно некоторые люди берут и сразу сдают или глюк какой в приложении например  \n",
    " \n",
    " **4. Объединение данных**  \n",
    " Объединили данные о пользователях, поездках и подписках в один датафрейм. На основе объединенного датафрейма создали еще 2 датафрейма:  \n",
    "\n",
    "- Для пользователей с подпиской  \n",
    "- Для пользователей без подписки    \n",
    "\n",
    "Дальше визуализировали информацию о расстоянии и времени поездки для пользоватей каждого тарифа.  \n",
    "- Для бесплатного тарифа время поездки составляет от 10 до 30 минут, и проезжают от 2000м до 50000м, есть пользователи, которые проехали даже 6, 6.5 км.\n",
    "- Платный тариф. В основном время укладывается в промежуток от 7 до 28 минут. Проезжают от 2200м до 4500м  \n",
    "\n",
    "**5. Подсчет выручки**  \n",
    "Выручка  за год составила 3853185.0 руб.  \n",
    "\n",
    "**6. Проверка гипотез**  \n",
    "Пользователи с подпиской тратят больше времени на поездки, чем пользователи на бесплатном тарифе  \n",
    "- Отвергли нулевую гипотезу\n",
    "\n",
    "Пользователи с подпиской проезжают расстояние, не превышающее 3130 метров за одну поездку  \n",
    "- Не удалось отвергнуть нулевую гипотезу  \n",
    "\n",
    "Помесячная выручка от пользователей с подпиской выше, чем выручка от пользователей без подписки  \n",
    "- Отвергли нулевую гипотезу  "
   ]
  }
 ],
 "metadata": {
  "ExecuteTimeLog": [
   {
    "duration": 1122,
    "start_time": "2024-03-19T09:54:39.398Z"
   },
   {
    "duration": 246,
    "start_time": "2024-03-19T09:54:40.522Z"
   },
   {
    "duration": 20,
    "start_time": "2024-03-19T09:54:40.770Z"
   },
   {
    "duration": 29,
    "start_time": "2024-03-19T09:54:40.791Z"
   },
   {
    "duration": 62,
    "start_time": "2024-03-19T09:54:40.822Z"
   },
   {
    "duration": 972,
    "start_time": "2024-03-19T09:54:40.886Z"
   },
   {
    "duration": 19,
    "start_time": "2024-03-19T09:54:41.860Z"
   },
   {
    "duration": 43,
    "start_time": "2024-03-19T09:54:41.880Z"
   },
   {
    "duration": 38,
    "start_time": "2024-03-19T09:54:41.925Z"
   },
   {
    "duration": 167,
    "start_time": "2024-03-19T09:54:41.965Z"
   },
   {
    "duration": 8,
    "start_time": "2024-03-19T09:54:42.134Z"
   },
   {
    "duration": 158,
    "start_time": "2024-03-19T09:54:42.144Z"
   },
   {
    "duration": 305,
    "start_time": "2024-03-19T09:54:42.304Z"
   },
   {
    "duration": 9,
    "start_time": "2024-03-19T09:54:42.611Z"
   },
   {
    "duration": 593,
    "start_time": "2024-03-19T09:54:42.621Z"
   },
   {
    "duration": 8,
    "start_time": "2024-03-19T09:54:43.216Z"
   },
   {
    "duration": 531,
    "start_time": "2024-03-19T09:54:43.226Z"
   },
   {
    "duration": 40,
    "start_time": "2024-03-19T09:54:43.766Z"
   },
   {
    "duration": 23,
    "start_time": "2024-03-19T09:54:43.808Z"
   },
   {
    "duration": 298,
    "start_time": "2024-03-19T09:54:43.832Z"
   },
   {
    "duration": 416,
    "start_time": "2024-03-19T09:54:44.132Z"
   },
   {
    "duration": 34,
    "start_time": "2024-03-19T09:54:44.550Z"
   },
   {
    "duration": 303,
    "start_time": "2024-03-19T09:54:44.586Z"
   },
   {
    "duration": 297,
    "start_time": "2024-03-19T09:54:44.891Z"
   },
   {
    "duration": 45,
    "start_time": "2024-03-19T09:54:45.190Z"
   },
   {
    "duration": 30,
    "start_time": "2024-03-19T09:54:45.237Z"
   },
   {
    "duration": 59,
    "start_time": "2024-03-19T09:54:45.269Z"
   },
   {
    "duration": 83,
    "start_time": "2024-03-19T09:54:45.330Z"
   },
   {
    "duration": 60,
    "start_time": "2024-03-19T09:54:45.415Z"
   },
   {
    "duration": 27,
    "start_time": "2024-03-19T09:54:45.477Z"
   },
   {
    "duration": 1125,
    "start_time": "2024-03-19T10:15:44.915Z"
   },
   {
    "duration": 144,
    "start_time": "2024-03-19T10:15:46.042Z"
   },
   {
    "duration": 19,
    "start_time": "2024-03-19T10:15:46.188Z"
   },
   {
    "duration": 24,
    "start_time": "2024-03-19T10:15:46.208Z"
   },
   {
    "duration": 29,
    "start_time": "2024-03-19T10:15:46.234Z"
   },
   {
    "duration": 977,
    "start_time": "2024-03-19T10:15:46.264Z"
   },
   {
    "duration": 14,
    "start_time": "2024-03-19T10:15:47.243Z"
   },
   {
    "duration": 11,
    "start_time": "2024-03-19T10:15:47.266Z"
   },
   {
    "duration": 8,
    "start_time": "2024-03-19T10:15:47.279Z"
   },
   {
    "duration": 178,
    "start_time": "2024-03-19T10:15:47.289Z"
   },
   {
    "duration": 8,
    "start_time": "2024-03-19T10:15:47.468Z"
   },
   {
    "duration": 142,
    "start_time": "2024-03-19T10:15:47.478Z"
   },
   {
    "duration": 278,
    "start_time": "2024-03-19T10:15:47.622Z"
   },
   {
    "duration": 8,
    "start_time": "2024-03-19T10:15:47.902Z"
   },
   {
    "duration": 557,
    "start_time": "2024-03-19T10:15:47.912Z"
   },
   {
    "duration": 9,
    "start_time": "2024-03-19T10:15:48.471Z"
   },
   {
    "duration": 531,
    "start_time": "2024-03-19T10:15:48.482Z"
   },
   {
    "duration": 30,
    "start_time": "2024-03-19T10:15:49.015Z"
   },
   {
    "duration": 40,
    "start_time": "2024-03-19T10:15:49.047Z"
   },
   {
    "duration": 290,
    "start_time": "2024-03-19T10:15:49.088Z"
   },
   {
    "duration": 392,
    "start_time": "2024-03-19T10:15:49.380Z"
   },
   {
    "duration": 22,
    "start_time": "2024-03-19T10:15:49.774Z"
   },
   {
    "duration": 287,
    "start_time": "2024-03-19T10:15:49.798Z"
   },
   {
    "duration": 288,
    "start_time": "2024-03-19T10:15:50.087Z"
   },
   {
    "duration": 44,
    "start_time": "2024-03-19T10:15:50.377Z"
   },
   {
    "duration": 7,
    "start_time": "2024-03-19T10:15:50.423Z"
   },
   {
    "duration": 41,
    "start_time": "2024-03-19T10:15:50.431Z"
   },
   {
    "duration": 13,
    "start_time": "2024-03-19T10:15:50.474Z"
   },
   {
    "duration": 8,
    "start_time": "2024-03-19T10:15:50.488Z"
   },
   {
    "duration": 12,
    "start_time": "2024-03-19T10:15:50.497Z"
   },
   {
    "duration": 57,
    "start_time": "2024-03-19T11:08:13.314Z"
   },
   {
    "duration": 7,
    "start_time": "2024-03-19T11:08:51.453Z"
   },
   {
    "duration": 1341,
    "start_time": "2024-03-19T11:09:43.522Z"
   },
   {
    "duration": 278,
    "start_time": "2024-03-19T11:09:44.865Z"
   },
   {
    "duration": 20,
    "start_time": "2024-03-19T11:09:45.145Z"
   },
   {
    "duration": 20,
    "start_time": "2024-03-19T11:09:45.167Z"
   },
   {
    "duration": 60,
    "start_time": "2024-03-19T11:09:45.189Z"
   },
   {
    "duration": 982,
    "start_time": "2024-03-19T11:09:45.251Z"
   },
   {
    "duration": 15,
    "start_time": "2024-03-19T11:09:46.234Z"
   },
   {
    "duration": 12,
    "start_time": "2024-03-19T11:09:46.250Z"
   },
   {
    "duration": 26,
    "start_time": "2024-03-19T11:09:46.263Z"
   },
   {
    "duration": 161,
    "start_time": "2024-03-19T11:09:46.291Z"
   },
   {
    "duration": 8,
    "start_time": "2024-03-19T11:09:46.454Z"
   },
   {
    "duration": 150,
    "start_time": "2024-03-19T11:09:46.464Z"
   },
   {
    "duration": 291,
    "start_time": "2024-03-19T11:09:46.616Z"
   },
   {
    "duration": 8,
    "start_time": "2024-03-19T11:09:46.910Z"
   },
   {
    "duration": 562,
    "start_time": "2024-03-19T11:09:46.919Z"
   },
   {
    "duration": 12,
    "start_time": "2024-03-19T11:09:47.482Z"
   },
   {
    "duration": 543,
    "start_time": "2024-03-19T11:09:47.496Z"
   },
   {
    "duration": 31,
    "start_time": "2024-03-19T11:09:48.041Z"
   },
   {
    "duration": 32,
    "start_time": "2024-03-19T11:09:48.073Z"
   },
   {
    "duration": 283,
    "start_time": "2024-03-19T11:09:48.106Z"
   },
   {
    "duration": 380,
    "start_time": "2024-03-19T11:09:48.391Z"
   },
   {
    "duration": 29,
    "start_time": "2024-03-19T11:09:48.773Z"
   },
   {
    "duration": 293,
    "start_time": "2024-03-19T11:09:48.803Z"
   },
   {
    "duration": 290,
    "start_time": "2024-03-19T11:09:49.097Z"
   },
   {
    "duration": 44,
    "start_time": "2024-03-19T11:09:49.389Z"
   },
   {
    "duration": 7,
    "start_time": "2024-03-19T11:09:49.434Z"
   },
   {
    "duration": 17,
    "start_time": "2024-03-19T11:09:49.442Z"
   },
   {
    "duration": 28,
    "start_time": "2024-03-19T11:09:49.461Z"
   },
   {
    "duration": 9,
    "start_time": "2024-03-19T11:09:49.490Z"
   },
   {
    "duration": 9,
    "start_time": "2024-03-19T11:09:49.500Z"
   },
   {
    "duration": 270,
    "start_time": "2024-03-19T11:15:45.102Z"
   },
   {
    "duration": 169,
    "start_time": "2024-03-19T11:15:54.192Z"
   },
   {
    "duration": 156,
    "start_time": "2024-03-19T11:23:21.671Z"
   },
   {
    "duration": 162,
    "start_time": "2024-03-19T11:23:33.080Z"
   },
   {
    "duration": 21,
    "start_time": "2024-03-19T12:00:25.946Z"
   },
   {
    "duration": 17,
    "start_time": "2024-03-19T12:00:30.197Z"
   },
   {
    "duration": 126,
    "start_time": "2024-03-19T12:01:33.826Z"
   },
   {
    "duration": 18,
    "start_time": "2024-03-19T12:02:41.060Z"
   },
   {
    "duration": 1184,
    "start_time": "2024-03-19T12:03:09.032Z"
   },
   {
    "duration": 176,
    "start_time": "2024-03-19T12:03:10.218Z"
   },
   {
    "duration": 21,
    "start_time": "2024-03-19T12:03:10.396Z"
   },
   {
    "duration": 16,
    "start_time": "2024-03-19T12:03:10.418Z"
   },
   {
    "duration": 35,
    "start_time": "2024-03-19T12:03:10.437Z"
   },
   {
    "duration": 1006,
    "start_time": "2024-03-19T12:03:10.474Z"
   },
   {
    "duration": 15,
    "start_time": "2024-03-19T12:03:11.482Z"
   },
   {
    "duration": 11,
    "start_time": "2024-03-19T12:03:11.499Z"
   },
   {
    "duration": 9,
    "start_time": "2024-03-19T12:03:11.511Z"
   },
   {
    "duration": 149,
    "start_time": "2024-03-19T12:03:11.521Z"
   },
   {
    "duration": 108,
    "start_time": "2024-03-19T12:03:11.671Z"
   },
   {
    "duration": 0,
    "start_time": "2024-03-19T12:03:11.781Z"
   },
   {
    "duration": 0,
    "start_time": "2024-03-19T12:03:11.782Z"
   },
   {
    "duration": 0,
    "start_time": "2024-03-19T12:03:11.783Z"
   },
   {
    "duration": 0,
    "start_time": "2024-03-19T12:03:11.788Z"
   },
   {
    "duration": 0,
    "start_time": "2024-03-19T12:03:11.789Z"
   },
   {
    "duration": 0,
    "start_time": "2024-03-19T12:03:11.790Z"
   },
   {
    "duration": 0,
    "start_time": "2024-03-19T12:03:11.791Z"
   },
   {
    "duration": 0,
    "start_time": "2024-03-19T12:03:11.792Z"
   },
   {
    "duration": 0,
    "start_time": "2024-03-19T12:03:11.793Z"
   },
   {
    "duration": 0,
    "start_time": "2024-03-19T12:03:11.794Z"
   },
   {
    "duration": 0,
    "start_time": "2024-03-19T12:03:11.796Z"
   },
   {
    "duration": 0,
    "start_time": "2024-03-19T12:03:11.797Z"
   },
   {
    "duration": 0,
    "start_time": "2024-03-19T12:03:11.798Z"
   },
   {
    "duration": 0,
    "start_time": "2024-03-19T12:03:11.799Z"
   },
   {
    "duration": 0,
    "start_time": "2024-03-19T12:03:11.800Z"
   },
   {
    "duration": 0,
    "start_time": "2024-03-19T12:03:11.801Z"
   },
   {
    "duration": 0,
    "start_time": "2024-03-19T12:03:11.802Z"
   },
   {
    "duration": 0,
    "start_time": "2024-03-19T12:03:11.803Z"
   },
   {
    "duration": 0,
    "start_time": "2024-03-19T12:03:11.804Z"
   },
   {
    "duration": 13,
    "start_time": "2024-03-19T12:03:34.218Z"
   },
   {
    "duration": 9,
    "start_time": "2024-03-19T12:04:05.538Z"
   },
   {
    "duration": 9,
    "start_time": "2024-03-19T12:04:18.258Z"
   },
   {
    "duration": 2,
    "start_time": "2024-03-19T12:04:28.898Z"
   },
   {
    "duration": 182,
    "start_time": "2024-03-19T12:04:31.579Z"
   },
   {
    "duration": 14,
    "start_time": "2024-03-19T12:04:40.741Z"
   },
   {
    "duration": 8,
    "start_time": "2024-03-19T12:04:45.916Z"
   },
   {
    "duration": 8,
    "start_time": "2024-03-19T12:05:13.599Z"
   },
   {
    "duration": 9,
    "start_time": "2024-03-19T12:11:25.705Z"
   },
   {
    "duration": 3,
    "start_time": "2024-03-19T12:11:34.465Z"
   },
   {
    "duration": 766,
    "start_time": "2024-03-19T12:11:35.346Z"
   },
   {
    "duration": 14,
    "start_time": "2024-03-19T12:11:36.114Z"
   },
   {
    "duration": 17,
    "start_time": "2024-03-19T12:11:36.129Z"
   },
   {
    "duration": 23,
    "start_time": "2024-03-19T12:11:36.256Z"
   },
   {
    "duration": 946,
    "start_time": "2024-03-19T12:11:36.426Z"
   },
   {
    "duration": 14,
    "start_time": "2024-03-19T12:11:37.868Z"
   },
   {
    "duration": 12,
    "start_time": "2024-03-19T12:11:39.016Z"
   },
   {
    "duration": 9,
    "start_time": "2024-03-19T12:11:39.701Z"
   },
   {
    "duration": 160,
    "start_time": "2024-03-19T12:11:42.031Z"
   },
   {
    "duration": 122,
    "start_time": "2024-03-19T12:17:56.631Z"
   },
   {
    "duration": 13,
    "start_time": "2024-03-19T12:18:08.275Z"
   },
   {
    "duration": 5,
    "start_time": "2024-03-19T12:22:00.134Z"
   },
   {
    "duration": 1158,
    "start_time": "2024-03-19T12:22:10.484Z"
   },
   {
    "duration": 29,
    "start_time": "2024-03-19T12:22:24.193Z"
   },
   {
    "duration": 19,
    "start_time": "2024-03-19T12:25:23.453Z"
   },
   {
    "duration": 19,
    "start_time": "2024-03-19T12:26:15.328Z"
   },
   {
    "duration": 18,
    "start_time": "2024-03-19T12:26:22.474Z"
   },
   {
    "duration": 18,
    "start_time": "2024-03-19T12:26:25.644Z"
   },
   {
    "duration": 16,
    "start_time": "2024-03-19T12:28:46.024Z"
   },
   {
    "duration": 9,
    "start_time": "2024-03-19T12:28:51.136Z"
   },
   {
    "duration": 16,
    "start_time": "2024-03-19T12:28:58.144Z"
   },
   {
    "duration": 8,
    "start_time": "2024-03-19T12:29:14.054Z"
   },
   {
    "duration": 10,
    "start_time": "2024-03-19T12:29:16.623Z"
   },
   {
    "duration": 15,
    "start_time": "2024-03-19T12:29:20.943Z"
   },
   {
    "duration": 14,
    "start_time": "2024-03-19T12:29:30.154Z"
   },
   {
    "duration": 17,
    "start_time": "2024-03-19T12:30:46.469Z"
   },
   {
    "duration": 19,
    "start_time": "2024-03-19T12:31:00.394Z"
   },
   {
    "duration": 19,
    "start_time": "2024-03-19T12:32:49.462Z"
   },
   {
    "duration": 19,
    "start_time": "2024-03-19T12:33:16.525Z"
   },
   {
    "duration": 1528,
    "start_time": "2024-03-19T12:38:31.249Z"
   },
   {
    "duration": 1568,
    "start_time": "2024-03-19T12:38:48.742Z"
   },
   {
    "duration": 12,
    "start_time": "2024-03-19T12:38:56.261Z"
   },
   {
    "duration": 18,
    "start_time": "2024-03-19T12:39:36.192Z"
   },
   {
    "duration": 22989,
    "start_time": "2024-03-19T12:40:15.873Z"
   },
   {
    "duration": 1605,
    "start_time": "2024-03-19T12:42:14.847Z"
   },
   {
    "duration": 1586,
    "start_time": "2024-03-19T12:42:34.171Z"
   },
   {
    "duration": 151,
    "start_time": "2024-03-19T12:42:51.609Z"
   },
   {
    "duration": 165,
    "start_time": "2024-03-19T12:44:52.523Z"
   },
   {
    "duration": 158,
    "start_time": "2024-03-19T12:45:40.473Z"
   },
   {
    "duration": 159,
    "start_time": "2024-03-19T12:51:25.542Z"
   },
   {
    "duration": 184,
    "start_time": "2024-03-19T12:53:51.828Z"
   },
   {
    "duration": 159,
    "start_time": "2024-03-19T12:55:01.707Z"
   },
   {
    "duration": 153,
    "start_time": "2024-03-19T12:55:13.538Z"
   },
   {
    "duration": 8,
    "start_time": "2024-03-19T12:55:44.607Z"
   },
   {
    "duration": 162,
    "start_time": "2024-03-19T12:57:34.871Z"
   },
   {
    "duration": 156,
    "start_time": "2024-03-19T12:57:43.557Z"
   },
   {
    "duration": 158,
    "start_time": "2024-03-19T13:02:23.382Z"
   },
   {
    "duration": 183,
    "start_time": "2024-03-19T13:02:34.426Z"
   },
   {
    "duration": 173,
    "start_time": "2024-03-19T13:02:43.737Z"
   },
   {
    "duration": 157,
    "start_time": "2024-03-19T13:02:48.110Z"
   },
   {
    "duration": 164,
    "start_time": "2024-03-19T13:02:56.581Z"
   },
   {
    "duration": 284,
    "start_time": "2024-03-19T13:03:29.230Z"
   },
   {
    "duration": 288,
    "start_time": "2024-03-19T13:04:24.000Z"
   },
   {
    "duration": 29,
    "start_time": "2024-03-19T13:05:14.889Z"
   },
   {
    "duration": 96,
    "start_time": "2024-03-19T13:06:50.467Z"
   },
   {
    "duration": 23,
    "start_time": "2024-03-19T13:07:48.814Z"
   },
   {
    "duration": 28,
    "start_time": "2024-03-19T13:07:55.206Z"
   },
   {
    "duration": 25,
    "start_time": "2024-03-19T13:08:14.439Z"
   },
   {
    "duration": 29,
    "start_time": "2024-03-19T13:08:23.059Z"
   },
   {
    "duration": 38,
    "start_time": "2024-03-19T13:08:33.090Z"
   },
   {
    "duration": 36,
    "start_time": "2024-03-19T13:08:43.932Z"
   },
   {
    "duration": 32,
    "start_time": "2024-03-19T13:08:56.951Z"
   },
   {
    "duration": 36,
    "start_time": "2024-03-19T13:09:09.060Z"
   },
   {
    "duration": 8,
    "start_time": "2024-03-19T13:10:56.919Z"
   },
   {
    "duration": 9,
    "start_time": "2024-03-19T13:10:59.223Z"
   },
   {
    "duration": 48,
    "start_time": "2024-03-19T13:11:03.180Z"
   },
   {
    "duration": 8,
    "start_time": "2024-03-19T13:11:06.128Z"
   },
   {
    "duration": 18,
    "start_time": "2024-03-19T13:11:08.222Z"
   },
   {
    "duration": 103,
    "start_time": "2024-03-19T13:15:30.980Z"
   },
   {
    "duration": 108,
    "start_time": "2024-03-19T13:16:16.980Z"
   },
   {
    "duration": 138,
    "start_time": "2024-03-19T13:19:36.491Z"
   },
   {
    "duration": 43,
    "start_time": "2024-03-19T13:22:03.991Z"
   },
   {
    "duration": 44,
    "start_time": "2024-03-19T13:22:09.050Z"
   },
   {
    "duration": 45,
    "start_time": "2024-03-19T13:22:24.718Z"
   },
   {
    "duration": 427,
    "start_time": "2024-03-19T13:22:47.041Z"
   },
   {
    "duration": 99,
    "start_time": "2024-03-19T13:23:36.688Z"
   },
   {
    "duration": 39,
    "start_time": "2024-03-19T13:25:14.331Z"
   },
   {
    "duration": 44,
    "start_time": "2024-03-19T13:27:14.851Z"
   },
   {
    "duration": 43,
    "start_time": "2024-03-19T13:28:56.421Z"
   },
   {
    "duration": 51,
    "start_time": "2024-03-19T13:29:10.353Z"
   },
   {
    "duration": 17,
    "start_time": "2024-03-19T13:30:11.692Z"
   },
   {
    "duration": 17,
    "start_time": "2024-03-19T13:30:32.970Z"
   },
   {
    "duration": 19,
    "start_time": "2024-03-19T13:30:38.876Z"
   },
   {
    "duration": 45,
    "start_time": "2024-03-19T13:30:49.963Z"
   },
   {
    "duration": 437,
    "start_time": "2024-03-19T13:33:37.782Z"
   },
   {
    "duration": 20,
    "start_time": "2024-03-19T13:35:49.432Z"
   },
   {
    "duration": 18,
    "start_time": "2024-03-19T13:36:15.171Z"
   },
   {
    "duration": 436,
    "start_time": "2024-03-19T13:36:20.582Z"
   },
   {
    "duration": 449,
    "start_time": "2024-03-19T13:36:54.132Z"
   },
   {
    "duration": 58,
    "start_time": "2024-03-19T13:37:14.950Z"
   },
   {
    "duration": 99,
    "start_time": "2024-03-19T13:37:35.741Z"
   },
   {
    "duration": 439,
    "start_time": "2024-03-19T13:37:46.339Z"
   },
   {
    "duration": 8,
    "start_time": "2024-03-19T13:40:27.967Z"
   },
   {
    "duration": 8,
    "start_time": "2024-03-19T13:40:41.061Z"
   },
   {
    "duration": 94,
    "start_time": "2024-03-19T13:40:53.310Z"
   },
   {
    "duration": 45,
    "start_time": "2024-03-19T13:41:07.991Z"
   },
   {
    "duration": 51,
    "start_time": "2024-03-19T13:41:46.584Z"
   },
   {
    "duration": 54,
    "start_time": "2024-03-19T13:42:02.494Z"
   },
   {
    "duration": 6,
    "start_time": "2024-03-19T13:42:07.841Z"
   },
   {
    "duration": 19,
    "start_time": "2024-03-19T13:42:13.915Z"
   },
   {
    "duration": 22,
    "start_time": "2024-03-19T13:42:57.566Z"
   },
   {
    "duration": 277,
    "start_time": "2024-03-19T13:42:59.856Z"
   },
   {
    "duration": 635,
    "start_time": "2024-03-19T13:43:02.019Z"
   },
   {
    "duration": 9,
    "start_time": "2024-03-19T13:43:04.935Z"
   },
   {
    "duration": 20,
    "start_time": "2024-03-19T13:43:08.711Z"
   },
   {
    "duration": 297,
    "start_time": "2024-03-19T13:43:11.195Z"
   },
   {
    "duration": 280,
    "start_time": "2024-03-19T13:43:14.841Z"
   },
   {
    "duration": 402,
    "start_time": "2024-03-19T13:45:11.741Z"
   },
   {
    "duration": 533,
    "start_time": "2024-03-19T13:45:25.182Z"
   },
   {
    "duration": 420,
    "start_time": "2024-03-19T13:45:30.507Z"
   },
   {
    "duration": 408,
    "start_time": "2024-03-19T13:48:10.113Z"
   },
   {
    "duration": 163,
    "start_time": "2024-03-19T13:49:45.296Z"
   },
   {
    "duration": 5,
    "start_time": "2024-03-19T13:51:33.741Z"
   },
   {
    "duration": 5,
    "start_time": "2024-03-19T13:52:15.860Z"
   },
   {
    "duration": 8,
    "start_time": "2024-03-19T13:52:24.130Z"
   },
   {
    "duration": 7,
    "start_time": "2024-03-19T13:52:34.766Z"
   },
   {
    "duration": 7,
    "start_time": "2024-03-19T13:52:38.980Z"
   },
   {
    "duration": 10,
    "start_time": "2024-03-19T13:52:53.861Z"
   },
   {
    "duration": 10,
    "start_time": "2024-03-19T13:56:09.330Z"
   },
   {
    "duration": 9,
    "start_time": "2024-03-19T13:56:23.490Z"
   },
   {
    "duration": 107,
    "start_time": "2024-03-19T14:01:59.250Z"
   },
   {
    "duration": 1140,
    "start_time": "2024-03-19T18:13:59.810Z"
   },
   {
    "duration": 281,
    "start_time": "2024-03-19T18:14:00.952Z"
   },
   {
    "duration": 21,
    "start_time": "2024-03-19T18:14:01.234Z"
   },
   {
    "duration": 26,
    "start_time": "2024-03-19T18:14:01.257Z"
   },
   {
    "duration": 40,
    "start_time": "2024-03-19T18:14:01.286Z"
   },
   {
    "duration": 965,
    "start_time": "2024-03-19T18:14:01.328Z"
   },
   {
    "duration": 21,
    "start_time": "2024-03-19T18:14:02.295Z"
   },
   {
    "duration": 39,
    "start_time": "2024-03-19T18:14:02.318Z"
   },
   {
    "duration": 27,
    "start_time": "2024-03-19T18:14:02.359Z"
   },
   {
    "duration": 30,
    "start_time": "2024-03-19T18:14:02.388Z"
   },
   {
    "duration": 184,
    "start_time": "2024-03-19T18:14:02.419Z"
   },
   {
    "duration": 9,
    "start_time": "2024-03-19T18:14:02.605Z"
   },
   {
    "duration": 172,
    "start_time": "2024-03-19T18:14:02.616Z"
   },
   {
    "duration": 349,
    "start_time": "2024-03-19T18:14:02.795Z"
   },
   {
    "duration": 8,
    "start_time": "2024-03-19T18:14:03.146Z"
   },
   {
    "duration": 486,
    "start_time": "2024-03-19T18:14:03.155Z"
   },
   {
    "duration": 8,
    "start_time": "2024-03-19T18:14:03.642Z"
   },
   {
    "duration": 545,
    "start_time": "2024-03-19T18:14:03.651Z"
   },
   {
    "duration": 36,
    "start_time": "2024-03-19T18:14:04.197Z"
   },
   {
    "duration": 22,
    "start_time": "2024-03-19T18:14:04.235Z"
   },
   {
    "duration": 382,
    "start_time": "2024-03-19T18:14:04.259Z"
   },
   {
    "duration": 283,
    "start_time": "2024-03-19T18:14:04.643Z"
   },
   {
    "duration": 21,
    "start_time": "2024-03-19T18:14:04.928Z"
   },
   {
    "duration": 305,
    "start_time": "2024-03-19T18:14:04.950Z"
   },
   {
    "duration": 287,
    "start_time": "2024-03-19T18:14:05.256Z"
   },
   {
    "duration": 415,
    "start_time": "2024-03-19T18:14:05.545Z"
   },
   {
    "duration": 501,
    "start_time": "2024-03-19T18:14:05.962Z"
   },
   {
    "duration": 59,
    "start_time": "2024-03-19T18:14:06.465Z"
   },
   {
    "duration": 20,
    "start_time": "2024-03-19T18:14:06.526Z"
   },
   {
    "duration": 91,
    "start_time": "2024-03-19T18:14:06.548Z"
   },
   {
    "duration": 34,
    "start_time": "2024-03-19T18:14:06.641Z"
   },
   {
    "duration": 70,
    "start_time": "2024-03-19T18:14:06.676Z"
   },
   {
    "duration": 58,
    "start_time": "2024-03-19T18:14:06.748Z"
   }
  ],
  "kernelspec": {
   "display_name": "Python 3 (ipykernel)",
   "language": "python",
   "name": "python3"
  },
  "language_info": {
   "codemirror_mode": {
    "name": "ipython",
    "version": 3
   },
   "file_extension": ".py",
   "mimetype": "text/x-python",
   "name": "python",
   "nbconvert_exporter": "python",
   "pygments_lexer": "ipython3",
   "version": "3.11.5"
  },
  "toc": {
   "base_numbering": 1,
   "nav_menu": {},
   "number_sections": true,
   "sideBar": true,
   "skip_h1_title": true,
   "title_cell": "Содержание",
   "title_sidebar": "Contents",
   "toc_cell": true,
   "toc_position": {},
   "toc_section_display": true,
   "toc_window_display": false
  }
 },
 "nbformat": 4,
 "nbformat_minor": 5
}
